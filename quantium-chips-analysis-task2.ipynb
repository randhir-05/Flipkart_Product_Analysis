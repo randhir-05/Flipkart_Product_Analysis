{
 "cells": [
  {
   "cell_type": "markdown",
   "id": "09a24224",
   "metadata": {
    "papermill": {
     "duration": 0.018067,
     "end_time": "2024-10-20T15:47:33.477279",
     "exception": false,
     "start_time": "2024-10-20T15:47:33.459212",
     "status": "completed"
    },
    "tags": []
   },
   "source": [
    "THIS NOTEBOOK REFERS THE RESULT OF TASK 2 OF QUANTIUM VIRTUAL INTERSHIP OF CHIPS ANALYSIS.TRY TO LEARN SOMETHING INSTEAD OF COPYING IT TO COMPLETE TASK.IF YOU NOW SOMETHING BETTER PLZ LET ME KNOW IN COMMENTS AND AS WELL AS OTHERS\n",
    "\n",
    "THANKS\n",
    "\n",
    "IN CASE IF YOU DON'T LAND ON MY TASK 1 RESULT HERE IS LINK:https://www.kaggle.com/code/randhirasdataanalyst/quantium-chips-analysis-task1"
   ]
  },
  {
   "cell_type": "code",
   "execution_count": 1,
   "id": "041b1927",
   "metadata": {
    "_cell_guid": "b1076dfc-b9ad-4769-8c92-a6c4dae69d19",
    "_uuid": "8f2839f25d086af736a60e9eeb907d3b93b6e0e5",
    "execution": {
     "iopub.execute_input": "2024-10-20T15:47:33.515580Z",
     "iopub.status.busy": "2024-10-20T15:47:33.515136Z",
     "iopub.status.idle": "2024-10-20T15:47:34.599436Z",
     "shell.execute_reply": "2024-10-20T15:47:34.598145Z"
    },
    "papermill": {
     "duration": 1.107051,
     "end_time": "2024-10-20T15:47:34.602130",
     "exception": false,
     "start_time": "2024-10-20T15:47:33.495079",
     "status": "completed"
    },
    "tags": []
   },
   "outputs": [
    {
     "name": "stdout",
     "output_type": "stream",
     "text": [
      "/kaggle/input/quantium-task2-dataset/QVI_data.csv\n"
     ]
    }
   ],
   "source": [
    "# This Python 3 environment comes with many helpful analytics libraries installed\n",
    "# It is defined by the kaggle/python Docker image: https://github.com/kaggle/docker-python\n",
    "# For example, here's several helpful packages to load\n",
    "\n",
    "import numpy as np # linear algebra\n",
    "import pandas as pd # data processing, CSV file I/O (e.g. pd.read_csv)\n",
    "\n",
    "# Input data files are available in the read-only \"../input/\" directory\n",
    "# For example, running this (by clicking run or pressing Shift+Enter) will list all files under the input directory\n",
    "\n",
    "import os\n",
    "for dirname, _, filenames in os.walk('/kaggle/input'):\n",
    "    for filename in filenames:\n",
    "        print(os.path.join(dirname, filename))\n",
    "\n",
    "# You can write up to 20GB to the current directory (/kaggle/working/) that gets preserved as output when you create a version using \"Save & Run All\" \n",
    "# You can also write temporary files to /kaggle/temp/, but they won't be saved outside of the current session"
   ]
  },
  {
   "cell_type": "code",
   "execution_count": 2,
   "id": "28d48422",
   "metadata": {
    "execution": {
     "iopub.execute_input": "2024-10-20T15:47:34.638687Z",
     "iopub.status.busy": "2024-10-20T15:47:34.638141Z",
     "iopub.status.idle": "2024-10-20T15:47:36.678270Z",
     "shell.execute_reply": "2024-10-20T15:47:36.677155Z"
    },
    "papermill": {
     "duration": 2.061825,
     "end_time": "2024-10-20T15:47:36.681167",
     "exception": false,
     "start_time": "2024-10-20T15:47:34.619342",
     "status": "completed"
    },
    "tags": []
   },
   "outputs": [],
   "source": [
    "#importing libraries to remove filter error and re\n",
    "import re\n",
    "import warnings\n",
    "warnings.filterwarnings('ignore')\n",
    "#for visualization\n",
    "import seaborn as sns\n",
    "import matplotlib.pyplot as plt"
   ]
  },
  {
   "cell_type": "markdown",
   "id": "1d0bd5e0",
   "metadata": {
    "papermill": {
     "duration": 0.017122,
     "end_time": "2024-10-20T15:47:36.715964",
     "exception": false,
     "start_time": "2024-10-20T15:47:36.698842",
     "status": "completed"
    },
    "tags": []
   },
   "source": [
    "                                                                TASK 2\n",
    "                                                      QUANTIUM VIRTUAL INTERNSHIP"
   ]
  },
  {
   "cell_type": "markdown",
   "id": "3d03da7b",
   "metadata": {
    "papermill": {
     "duration": 0.018195,
     "end_time": "2024-10-20T15:47:36.751773",
     "exception": false,
     "start_time": "2024-10-20T15:47:36.733578",
     "status": "completed"
    },
    "tags": []
   },
   "source": [
    "Task to do:\n",
    "Define metrics to select control stores.\n",
    "\n",
    "Analyze trial stores against controls.\n",
    "\n",
    "Use R/Python for data analysis and visualization and summarise findings and provide recommendations.\n",
    "\n",
    "THIS IS WHAT WE NEED TO FIND:\n",
    "                                                    \n",
    "                                                    total sales revenue\n",
    "                                                    \n",
    "                                                    total number of customers\n",
    "                                                    \n",
    "                                                    average number of transactions per customer\n"
   ]
  },
  {
   "cell_type": "markdown",
   "id": "7f6a06d2",
   "metadata": {
    "papermill": {
     "duration": 0.017024,
     "end_time": "2024-10-20T15:47:36.786357",
     "exception": false,
     "start_time": "2024-10-20T15:47:36.769333",
     "status": "completed"
    },
    "tags": []
   },
   "source": [
    "I know task 2 is confusing and hard to understand as beginner so, let me explain what exactly we need to do in this task:\n",
    "as we have already given a trial store 77,86 and 88 we have to find out control store from a dataset whose value matches for given task like total sales revenue,total number of customer and average number of transaction per customer in a period and analyze the factor how vary for control store and trial store "
   ]
  },
  {
   "cell_type": "code",
   "execution_count": 3,
   "id": "dc7fc192",
   "metadata": {
    "execution": {
     "iopub.execute_input": "2024-10-20T15:47:36.823230Z",
     "iopub.status.busy": "2024-10-20T15:47:36.822595Z",
     "iopub.status.idle": "2024-10-20T15:47:37.777864Z",
     "shell.execute_reply": "2024-10-20T15:47:37.776596Z"
    },
    "papermill": {
     "duration": 0.976699,
     "end_time": "2024-10-20T15:47:37.780403",
     "exception": false,
     "start_time": "2024-10-20T15:47:36.803704",
     "status": "completed"
    },
    "tags": []
   },
   "outputs": [
    {
     "data": {
      "text/html": [
       "<div>\n",
       "<style scoped>\n",
       "    .dataframe tbody tr th:only-of-type {\n",
       "        vertical-align: middle;\n",
       "    }\n",
       "\n",
       "    .dataframe tbody tr th {\n",
       "        vertical-align: top;\n",
       "    }\n",
       "\n",
       "    .dataframe thead th {\n",
       "        text-align: right;\n",
       "    }\n",
       "</style>\n",
       "<table border=\"1\" class=\"dataframe\">\n",
       "  <thead>\n",
       "    <tr style=\"text-align: right;\">\n",
       "      <th></th>\n",
       "      <th>LYLTY_CARD_NBR</th>\n",
       "      <th>DATE</th>\n",
       "      <th>STORE_NBR</th>\n",
       "      <th>TXN_ID</th>\n",
       "      <th>PROD_NBR</th>\n",
       "      <th>PROD_NAME</th>\n",
       "      <th>PROD_QTY</th>\n",
       "      <th>TOT_SALES</th>\n",
       "      <th>PACK_SIZE</th>\n",
       "      <th>BRAND</th>\n",
       "      <th>LIFESTAGE</th>\n",
       "      <th>PREMIUM_CUSTOMER</th>\n",
       "    </tr>\n",
       "  </thead>\n",
       "  <tbody>\n",
       "    <tr>\n",
       "      <th>0</th>\n",
       "      <td>1000</td>\n",
       "      <td>2018-10-17</td>\n",
       "      <td>1</td>\n",
       "      <td>1</td>\n",
       "      <td>5</td>\n",
       "      <td>Natural Chip        Compny SeaSalt175g</td>\n",
       "      <td>2</td>\n",
       "      <td>6.0</td>\n",
       "      <td>175</td>\n",
       "      <td>NATURAL</td>\n",
       "      <td>YOUNG SINGLES/COUPLES</td>\n",
       "      <td>Premium</td>\n",
       "    </tr>\n",
       "    <tr>\n",
       "      <th>1</th>\n",
       "      <td>1002</td>\n",
       "      <td>2018-09-16</td>\n",
       "      <td>1</td>\n",
       "      <td>2</td>\n",
       "      <td>58</td>\n",
       "      <td>Red Rock Deli Chikn&amp;Garlic Aioli 150g</td>\n",
       "      <td>1</td>\n",
       "      <td>2.7</td>\n",
       "      <td>150</td>\n",
       "      <td>RRD</td>\n",
       "      <td>YOUNG SINGLES/COUPLES</td>\n",
       "      <td>Mainstream</td>\n",
       "    </tr>\n",
       "    <tr>\n",
       "      <th>2</th>\n",
       "      <td>1003</td>\n",
       "      <td>2019-03-07</td>\n",
       "      <td>1</td>\n",
       "      <td>3</td>\n",
       "      <td>52</td>\n",
       "      <td>Grain Waves Sour    Cream&amp;Chives 210G</td>\n",
       "      <td>1</td>\n",
       "      <td>3.6</td>\n",
       "      <td>210</td>\n",
       "      <td>GRNWVES</td>\n",
       "      <td>YOUNG FAMILIES</td>\n",
       "      <td>Budget</td>\n",
       "    </tr>\n",
       "    <tr>\n",
       "      <th>3</th>\n",
       "      <td>1003</td>\n",
       "      <td>2019-03-08</td>\n",
       "      <td>1</td>\n",
       "      <td>4</td>\n",
       "      <td>106</td>\n",
       "      <td>Natural ChipCo      Hony Soy Chckn175g</td>\n",
       "      <td>1</td>\n",
       "      <td>3.0</td>\n",
       "      <td>175</td>\n",
       "      <td>NATURAL</td>\n",
       "      <td>YOUNG FAMILIES</td>\n",
       "      <td>Budget</td>\n",
       "    </tr>\n",
       "    <tr>\n",
       "      <th>4</th>\n",
       "      <td>1004</td>\n",
       "      <td>2018-11-02</td>\n",
       "      <td>1</td>\n",
       "      <td>5</td>\n",
       "      <td>96</td>\n",
       "      <td>WW Original Stacked Chips 160g</td>\n",
       "      <td>1</td>\n",
       "      <td>1.9</td>\n",
       "      <td>160</td>\n",
       "      <td>WOOLWORTHS</td>\n",
       "      <td>OLDER SINGLES/COUPLES</td>\n",
       "      <td>Mainstream</td>\n",
       "    </tr>\n",
       "  </tbody>\n",
       "</table>\n",
       "</div>"
      ],
      "text/plain": [
       "   LYLTY_CARD_NBR        DATE  STORE_NBR  TXN_ID  PROD_NBR  \\\n",
       "0            1000  2018-10-17          1       1         5   \n",
       "1            1002  2018-09-16          1       2        58   \n",
       "2            1003  2019-03-07          1       3        52   \n",
       "3            1003  2019-03-08          1       4       106   \n",
       "4            1004  2018-11-02          1       5        96   \n",
       "\n",
       "                                PROD_NAME  PROD_QTY  TOT_SALES  PACK_SIZE  \\\n",
       "0  Natural Chip        Compny SeaSalt175g         2        6.0        175   \n",
       "1   Red Rock Deli Chikn&Garlic Aioli 150g         1        2.7        150   \n",
       "2   Grain Waves Sour    Cream&Chives 210G         1        3.6        210   \n",
       "3  Natural ChipCo      Hony Soy Chckn175g         1        3.0        175   \n",
       "4          WW Original Stacked Chips 160g         1        1.9        160   \n",
       "\n",
       "        BRAND              LIFESTAGE PREMIUM_CUSTOMER  \n",
       "0     NATURAL  YOUNG SINGLES/COUPLES          Premium  \n",
       "1         RRD  YOUNG SINGLES/COUPLES       Mainstream  \n",
       "2     GRNWVES         YOUNG FAMILIES           Budget  \n",
       "3     NATURAL         YOUNG FAMILIES           Budget  \n",
       "4  WOOLWORTHS  OLDER SINGLES/COUPLES       Mainstream  "
      ]
     },
     "execution_count": 3,
     "metadata": {},
     "output_type": "execute_result"
    }
   ],
   "source": [
    "df=pd.read_csv('/kaggle/input/quantium-task2-dataset/QVI_data.csv')\n",
    "df.head()"
   ]
  },
  {
   "cell_type": "code",
   "execution_count": 4,
   "id": "1a372706",
   "metadata": {
    "execution": {
     "iopub.execute_input": "2024-10-20T15:47:37.817737Z",
     "iopub.status.busy": "2024-10-20T15:47:37.817275Z",
     "iopub.status.idle": "2024-10-20T15:47:37.833185Z",
     "shell.execute_reply": "2024-10-20T15:47:37.832023Z"
    },
    "papermill": {
     "duration": 0.038107,
     "end_time": "2024-10-20T15:47:37.836240",
     "exception": false,
     "start_time": "2024-10-20T15:47:37.798133",
     "status": "completed"
    },
    "tags": []
   },
   "outputs": [
    {
     "data": {
      "text/plain": [
       "array([  1,   2,   3,   4,   5,   6,   7,   8,   9,  10,  11,  12,  13,\n",
       "        14,  15,  16,  17,  18,  19,  20,  21,  22,  23,  24,  25,  26,\n",
       "        27,  28,  29,  30,  31,  32,  33,  34,  35,  36,  37,  38,  39,\n",
       "        40,  41,  42,  43,  44,  45,  46,  47,  48,  49,  50,  51,  52,\n",
       "        53,  54,  55,  56,  57,  58,  59,  60,  61,  62,  63,  64,  65,\n",
       "        66,  67,  68,  69,  70,  71,  72,  73,  74,  75,  76,  77,  78,\n",
       "        79,  80,  81,  82,  83,  84,  85,  86, 155,  87,  88,  89,  90,\n",
       "        91,  92,  93,  94,  95,  96,  97,  98,  99, 100, 101, 102, 103,\n",
       "       104, 105, 106, 107, 108, 109, 110, 111, 112, 113, 114, 115, 116,\n",
       "       117, 118, 119, 120, 121, 122, 123, 124, 125, 126, 127, 128, 129,\n",
       "       130, 131, 132, 133, 134, 135, 136, 137, 138, 139, 140, 141, 142,\n",
       "       143, 144, 145, 146, 147, 148, 149, 150, 151, 152, 153, 154, 156,\n",
       "       157, 158, 159, 160, 161, 162, 163, 164, 165, 166, 167, 168, 169,\n",
       "       170, 171, 172, 173, 174, 175, 176, 177, 178, 179, 180, 181, 182,\n",
       "       183, 184, 185, 186, 187, 188, 189, 190, 191, 192, 193, 194, 195,\n",
       "       196, 197, 198, 199, 200, 201, 202, 203, 204, 205, 206, 207, 208,\n",
       "       209, 210, 211, 212, 213, 214, 215, 216, 217, 218, 219, 220, 221,\n",
       "       222, 223, 224, 225, 226, 227, 228, 229, 230, 231, 232, 233, 234,\n",
       "       235, 236, 237, 238, 239, 240, 241, 242, 243, 244, 245, 246, 247,\n",
       "       248, 249, 250, 251, 252, 253, 254, 255, 256, 257, 258, 259, 260,\n",
       "       261, 262, 263, 264, 265, 266, 267, 268, 269, 270, 271, 272])"
      ]
     },
     "execution_count": 4,
     "metadata": {},
     "output_type": "execute_result"
    }
   ],
   "source": [
    "df.STORE_NBR.unique()"
   ]
  },
  {
   "cell_type": "code",
   "execution_count": 5,
   "id": "5793c006",
   "metadata": {
    "execution": {
     "iopub.execute_input": "2024-10-20T15:47:37.874502Z",
     "iopub.status.busy": "2024-10-20T15:47:37.874072Z",
     "iopub.status.idle": "2024-10-20T15:47:37.995786Z",
     "shell.execute_reply": "2024-10-20T15:47:37.994613Z"
    },
    "papermill": {
     "duration": 0.144221,
     "end_time": "2024-10-20T15:47:37.998852",
     "exception": false,
     "start_time": "2024-10-20T15:47:37.854631",
     "status": "completed"
    },
    "tags": []
   },
   "outputs": [
    {
     "data": {
      "text/html": [
       "<div>\n",
       "<style scoped>\n",
       "    .dataframe tbody tr th:only-of-type {\n",
       "        vertical-align: middle;\n",
       "    }\n",
       "\n",
       "    .dataframe tbody tr th {\n",
       "        vertical-align: top;\n",
       "    }\n",
       "\n",
       "    .dataframe thead th {\n",
       "        text-align: right;\n",
       "    }\n",
       "</style>\n",
       "<table border=\"1\" class=\"dataframe\">\n",
       "  <thead>\n",
       "    <tr style=\"text-align: right;\">\n",
       "      <th></th>\n",
       "      <th>LYLTY_CARD_NBR</th>\n",
       "      <th>DATE</th>\n",
       "      <th>STORE_NBR</th>\n",
       "      <th>TXN_ID</th>\n",
       "      <th>PROD_NBR</th>\n",
       "      <th>PROD_NAME</th>\n",
       "      <th>PROD_QTY</th>\n",
       "      <th>TOT_SALES</th>\n",
       "      <th>PACK_SIZE</th>\n",
       "      <th>BRAND</th>\n",
       "      <th>LIFESTAGE</th>\n",
       "      <th>PREMIUM_CUSTOMER</th>\n",
       "      <th>YEARMONTH</th>\n",
       "    </tr>\n",
       "  </thead>\n",
       "  <tbody>\n",
       "    <tr>\n",
       "      <th>0</th>\n",
       "      <td>1000</td>\n",
       "      <td>2018-10-17</td>\n",
       "      <td>1</td>\n",
       "      <td>1</td>\n",
       "      <td>5</td>\n",
       "      <td>Natural Chip        Compny SeaSalt175g</td>\n",
       "      <td>2</td>\n",
       "      <td>6.0</td>\n",
       "      <td>175</td>\n",
       "      <td>NATURAL</td>\n",
       "      <td>YOUNG SINGLES/COUPLES</td>\n",
       "      <td>Premium</td>\n",
       "      <td>201810</td>\n",
       "    </tr>\n",
       "    <tr>\n",
       "      <th>1</th>\n",
       "      <td>1002</td>\n",
       "      <td>2018-09-16</td>\n",
       "      <td>1</td>\n",
       "      <td>2</td>\n",
       "      <td>58</td>\n",
       "      <td>Red Rock Deli Chikn&amp;Garlic Aioli 150g</td>\n",
       "      <td>1</td>\n",
       "      <td>2.7</td>\n",
       "      <td>150</td>\n",
       "      <td>RRD</td>\n",
       "      <td>YOUNG SINGLES/COUPLES</td>\n",
       "      <td>Mainstream</td>\n",
       "      <td>201809</td>\n",
       "    </tr>\n",
       "    <tr>\n",
       "      <th>2</th>\n",
       "      <td>1003</td>\n",
       "      <td>2019-03-07</td>\n",
       "      <td>1</td>\n",
       "      <td>3</td>\n",
       "      <td>52</td>\n",
       "      <td>Grain Waves Sour    Cream&amp;Chives 210G</td>\n",
       "      <td>1</td>\n",
       "      <td>3.6</td>\n",
       "      <td>210</td>\n",
       "      <td>GRNWVES</td>\n",
       "      <td>YOUNG FAMILIES</td>\n",
       "      <td>Budget</td>\n",
       "      <td>201903</td>\n",
       "    </tr>\n",
       "    <tr>\n",
       "      <th>3</th>\n",
       "      <td>1003</td>\n",
       "      <td>2019-03-08</td>\n",
       "      <td>1</td>\n",
       "      <td>4</td>\n",
       "      <td>106</td>\n",
       "      <td>Natural ChipCo      Hony Soy Chckn175g</td>\n",
       "      <td>1</td>\n",
       "      <td>3.0</td>\n",
       "      <td>175</td>\n",
       "      <td>NATURAL</td>\n",
       "      <td>YOUNG FAMILIES</td>\n",
       "      <td>Budget</td>\n",
       "      <td>201903</td>\n",
       "    </tr>\n",
       "    <tr>\n",
       "      <th>4</th>\n",
       "      <td>1004</td>\n",
       "      <td>2018-11-02</td>\n",
       "      <td>1</td>\n",
       "      <td>5</td>\n",
       "      <td>96</td>\n",
       "      <td>WW Original Stacked Chips 160g</td>\n",
       "      <td>1</td>\n",
       "      <td>1.9</td>\n",
       "      <td>160</td>\n",
       "      <td>WOOLWORTHS</td>\n",
       "      <td>OLDER SINGLES/COUPLES</td>\n",
       "      <td>Mainstream</td>\n",
       "      <td>201811</td>\n",
       "    </tr>\n",
       "  </tbody>\n",
       "</table>\n",
       "</div>"
      ],
      "text/plain": [
       "   LYLTY_CARD_NBR       DATE  STORE_NBR  TXN_ID  PROD_NBR  \\\n",
       "0            1000 2018-10-17          1       1         5   \n",
       "1            1002 2018-09-16          1       2        58   \n",
       "2            1003 2019-03-07          1       3        52   \n",
       "3            1003 2019-03-08          1       4       106   \n",
       "4            1004 2018-11-02          1       5        96   \n",
       "\n",
       "                                PROD_NAME  PROD_QTY  TOT_SALES  PACK_SIZE  \\\n",
       "0  Natural Chip        Compny SeaSalt175g         2        6.0        175   \n",
       "1   Red Rock Deli Chikn&Garlic Aioli 150g         1        2.7        150   \n",
       "2   Grain Waves Sour    Cream&Chives 210G         1        3.6        210   \n",
       "3  Natural ChipCo      Hony Soy Chckn175g         1        3.0        175   \n",
       "4          WW Original Stacked Chips 160g         1        1.9        160   \n",
       "\n",
       "        BRAND              LIFESTAGE PREMIUM_CUSTOMER  YEARMONTH  \n",
       "0     NATURAL  YOUNG SINGLES/COUPLES          Premium     201810  \n",
       "1         RRD  YOUNG SINGLES/COUPLES       Mainstream     201809  \n",
       "2     GRNWVES         YOUNG FAMILIES           Budget     201903  \n",
       "3     NATURAL         YOUNG FAMILIES           Budget     201903  \n",
       "4  WOOLWORTHS  OLDER SINGLES/COUPLES       Mainstream     201811  "
      ]
     },
     "execution_count": 5,
     "metadata": {},
     "output_type": "execute_result"
    }
   ],
   "source": [
    "#let's add new column to dataset with year+month\n",
    "df['DATE']=pd.to_datetime(df['DATE'])\n",
    "df['YEARMONTH']=df['DATE'].dt.year*100+df['DATE'].dt.month\n",
    "df.head()"
   ]
  },
  {
   "cell_type": "markdown",
   "id": "8a06f24a",
   "metadata": {
    "papermill": {
     "duration": 0.017973,
     "end_time": "2024-10-20T15:47:38.035326",
     "exception": false,
     "start_time": "2024-10-20T15:47:38.017353",
     "status": "completed"
    },
    "tags": []
   },
   "source": [
    "Finding the metrics for analysis over time :\n"
   ]
  },
  {
   "cell_type": "code",
   "execution_count": 6,
   "id": "82e36137",
   "metadata": {
    "execution": {
     "iopub.execute_input": "2024-10-20T15:47:38.073740Z",
     "iopub.status.busy": "2024-10-20T15:47:38.073324Z",
     "iopub.status.idle": "2024-10-20T15:48:18.042258Z",
     "shell.execute_reply": "2024-10-20T15:48:18.041173Z"
    },
    "papermill": {
     "duration": 39.991816,
     "end_time": "2024-10-20T15:48:18.045323",
     "exception": false,
     "start_time": "2024-10-20T15:47:38.053507",
     "status": "completed"
    },
    "tags": []
   },
   "outputs": [],
   "source": [
    "metrics=df.groupby(['STORE_NBR','YEARMONTH']).agg(\n",
    "    TOTAL_SALES=('TOT_SALES',sum),\n",
    "    TOTAL_CUSTOMER=('LYLTY_CARD_NBR',pd.Series.nunique),\n",
    "    nTXNperCUSTOMER=('TXN_ID',lambda x: x.nunique()/df['LYLTY_CARD_NBR'].nunique()),\n",
    "    nCHIPSperTXN=('PROD_QTY',lambda x: x.sum()/df['TXN_ID'].nunique()),\n",
    "    avgPRICEperUNIT=('TOT_SALES',lambda x: x.sum()/df['PROD_QTY'].sum())\n",
    ").reset_index()"
   ]
  },
  {
   "cell_type": "code",
   "execution_count": 7,
   "id": "89a7349e",
   "metadata": {
    "execution": {
     "iopub.execute_input": "2024-10-20T15:48:18.083948Z",
     "iopub.status.busy": "2024-10-20T15:48:18.083484Z",
     "iopub.status.idle": "2024-10-20T15:48:18.102075Z",
     "shell.execute_reply": "2024-10-20T15:48:18.100664Z"
    },
    "papermill": {
     "duration": 0.040924,
     "end_time": "2024-10-20T15:48:18.104649",
     "exception": false,
     "start_time": "2024-10-20T15:48:18.063725",
     "status": "completed"
    },
    "tags": []
   },
   "outputs": [
    {
     "data": {
      "text/html": [
       "<div>\n",
       "<style scoped>\n",
       "    .dataframe tbody tr th:only-of-type {\n",
       "        vertical-align: middle;\n",
       "    }\n",
       "\n",
       "    .dataframe tbody tr th {\n",
       "        vertical-align: top;\n",
       "    }\n",
       "\n",
       "    .dataframe thead th {\n",
       "        text-align: right;\n",
       "    }\n",
       "</style>\n",
       "<table border=\"1\" class=\"dataframe\">\n",
       "  <thead>\n",
       "    <tr style=\"text-align: right;\">\n",
       "      <th></th>\n",
       "      <th>STORE_NBR</th>\n",
       "      <th>YEARMONTH</th>\n",
       "      <th>TOTAL_SALES</th>\n",
       "      <th>TOTAL_CUSTOMER</th>\n",
       "      <th>nTXNperCUSTOMER</th>\n",
       "      <th>nCHIPSperTXN</th>\n",
       "      <th>avgPRICEperUNIT</th>\n",
       "    </tr>\n",
       "  </thead>\n",
       "  <tbody>\n",
       "    <tr>\n",
       "      <th>0</th>\n",
       "      <td>1</td>\n",
       "      <td>201807</td>\n",
       "      <td>206.9</td>\n",
       "      <td>49</td>\n",
       "      <td>0.000716</td>\n",
       "      <td>0.000236</td>\n",
       "      <td>0.000410</td>\n",
       "    </tr>\n",
       "    <tr>\n",
       "      <th>1</th>\n",
       "      <td>1</td>\n",
       "      <td>201808</td>\n",
       "      <td>176.1</td>\n",
       "      <td>42</td>\n",
       "      <td>0.000592</td>\n",
       "      <td>0.000205</td>\n",
       "      <td>0.000349</td>\n",
       "    </tr>\n",
       "    <tr>\n",
       "      <th>2</th>\n",
       "      <td>1</td>\n",
       "      <td>201809</td>\n",
       "      <td>278.8</td>\n",
       "      <td>59</td>\n",
       "      <td>0.000854</td>\n",
       "      <td>0.000285</td>\n",
       "      <td>0.000552</td>\n",
       "    </tr>\n",
       "    <tr>\n",
       "      <th>3</th>\n",
       "      <td>1</td>\n",
       "      <td>201810</td>\n",
       "      <td>188.1</td>\n",
       "      <td>44</td>\n",
       "      <td>0.000620</td>\n",
       "      <td>0.000220</td>\n",
       "      <td>0.000373</td>\n",
       "    </tr>\n",
       "    <tr>\n",
       "      <th>4</th>\n",
       "      <td>1</td>\n",
       "      <td>201811</td>\n",
       "      <td>192.6</td>\n",
       "      <td>46</td>\n",
       "      <td>0.000647</td>\n",
       "      <td>0.000217</td>\n",
       "      <td>0.000382</td>\n",
       "    </tr>\n",
       "    <tr>\n",
       "      <th>...</th>\n",
       "      <td>...</td>\n",
       "      <td>...</td>\n",
       "      <td>...</td>\n",
       "      <td>...</td>\n",
       "      <td>...</td>\n",
       "      <td>...</td>\n",
       "      <td>...</td>\n",
       "    </tr>\n",
       "    <tr>\n",
       "      <th>3164</th>\n",
       "      <td>272</td>\n",
       "      <td>201902</td>\n",
       "      <td>395.5</td>\n",
       "      <td>45</td>\n",
       "      <td>0.000661</td>\n",
       "      <td>0.000346</td>\n",
       "      <td>0.000784</td>\n",
       "    </tr>\n",
       "    <tr>\n",
       "      <th>3165</th>\n",
       "      <td>272</td>\n",
       "      <td>201903</td>\n",
       "      <td>442.3</td>\n",
       "      <td>50</td>\n",
       "      <td>0.000730</td>\n",
       "      <td>0.000384</td>\n",
       "      <td>0.000876</td>\n",
       "    </tr>\n",
       "    <tr>\n",
       "      <th>3166</th>\n",
       "      <td>272</td>\n",
       "      <td>201904</td>\n",
       "      <td>445.1</td>\n",
       "      <td>54</td>\n",
       "      <td>0.000757</td>\n",
       "      <td>0.000399</td>\n",
       "      <td>0.000882</td>\n",
       "    </tr>\n",
       "    <tr>\n",
       "      <th>3167</th>\n",
       "      <td>272</td>\n",
       "      <td>201905</td>\n",
       "      <td>314.6</td>\n",
       "      <td>34</td>\n",
       "      <td>0.000551</td>\n",
       "      <td>0.000270</td>\n",
       "      <td>0.000623</td>\n",
       "    </tr>\n",
       "    <tr>\n",
       "      <th>3168</th>\n",
       "      <td>272</td>\n",
       "      <td>201906</td>\n",
       "      <td>312.1</td>\n",
       "      <td>34</td>\n",
       "      <td>0.000509</td>\n",
       "      <td>0.000266</td>\n",
       "      <td>0.000618</td>\n",
       "    </tr>\n",
       "  </tbody>\n",
       "</table>\n",
       "<p>3169 rows × 7 columns</p>\n",
       "</div>"
      ],
      "text/plain": [
       "      STORE_NBR  YEARMONTH  TOTAL_SALES  TOTAL_CUSTOMER  nTXNperCUSTOMER  \\\n",
       "0             1     201807        206.9              49         0.000716   \n",
       "1             1     201808        176.1              42         0.000592   \n",
       "2             1     201809        278.8              59         0.000854   \n",
       "3             1     201810        188.1              44         0.000620   \n",
       "4             1     201811        192.6              46         0.000647   \n",
       "...         ...        ...          ...             ...              ...   \n",
       "3164        272     201902        395.5              45         0.000661   \n",
       "3165        272     201903        442.3              50         0.000730   \n",
       "3166        272     201904        445.1              54         0.000757   \n",
       "3167        272     201905        314.6              34         0.000551   \n",
       "3168        272     201906        312.1              34         0.000509   \n",
       "\n",
       "      nCHIPSperTXN  avgPRICEperUNIT  \n",
       "0         0.000236         0.000410  \n",
       "1         0.000205         0.000349  \n",
       "2         0.000285         0.000552  \n",
       "3         0.000220         0.000373  \n",
       "4         0.000217         0.000382  \n",
       "...            ...              ...  \n",
       "3164      0.000346         0.000784  \n",
       "3165      0.000384         0.000876  \n",
       "3166      0.000399         0.000882  \n",
       "3167      0.000270         0.000623  \n",
       "3168      0.000266         0.000618  \n",
       "\n",
       "[3169 rows x 7 columns]"
      ]
     },
     "execution_count": 7,
     "metadata": {},
     "output_type": "execute_result"
    }
   ],
   "source": [
    "metrics"
   ]
  },
  {
   "cell_type": "markdown",
   "id": "c653596b",
   "metadata": {
    "papermill": {
     "duration": 0.01828,
     "end_time": "2024-10-20T15:48:18.141763",
     "exception": false,
     "start_time": "2024-10-20T15:48:18.123483",
     "status": "completed"
    },
    "tags": []
   },
   "source": [
    "Filtering pre-trial period"
   ]
  },
  {
   "cell_type": "code",
   "execution_count": 8,
   "id": "65ba8d58",
   "metadata": {
    "execution": {
     "iopub.execute_input": "2024-10-20T15:48:18.181623Z",
     "iopub.status.busy": "2024-10-20T15:48:18.180750Z",
     "iopub.status.idle": "2024-10-20T15:48:18.199916Z",
     "shell.execute_reply": "2024-10-20T15:48:18.198830Z"
    },
    "papermill": {
     "duration": 0.042457,
     "end_time": "2024-10-20T15:48:18.202886",
     "exception": false,
     "start_time": "2024-10-20T15:48:18.160429",
     "status": "completed"
    },
    "tags": []
   },
   "outputs": [
    {
     "data": {
      "text/html": [
       "<div>\n",
       "<style scoped>\n",
       "    .dataframe tbody tr th:only-of-type {\n",
       "        vertical-align: middle;\n",
       "    }\n",
       "\n",
       "    .dataframe tbody tr th {\n",
       "        vertical-align: top;\n",
       "    }\n",
       "\n",
       "    .dataframe thead th {\n",
       "        text-align: right;\n",
       "    }\n",
       "</style>\n",
       "<table border=\"1\" class=\"dataframe\">\n",
       "  <thead>\n",
       "    <tr style=\"text-align: right;\">\n",
       "      <th></th>\n",
       "      <th>STORE_NBR</th>\n",
       "      <th>YEARMONTH</th>\n",
       "      <th>TOTAL_SALES</th>\n",
       "      <th>TOTAL_CUSTOMER</th>\n",
       "      <th>nTXNperCUSTOMER</th>\n",
       "      <th>nCHIPSperTXN</th>\n",
       "      <th>avgPRICEperUNIT</th>\n",
       "    </tr>\n",
       "  </thead>\n",
       "  <tbody>\n",
       "    <tr>\n",
       "      <th>0</th>\n",
       "      <td>1</td>\n",
       "      <td>201807</td>\n",
       "      <td>206.9</td>\n",
       "      <td>49</td>\n",
       "      <td>0.000716</td>\n",
       "      <td>0.000236</td>\n",
       "      <td>0.000410</td>\n",
       "    </tr>\n",
       "    <tr>\n",
       "      <th>1</th>\n",
       "      <td>1</td>\n",
       "      <td>201808</td>\n",
       "      <td>176.1</td>\n",
       "      <td>42</td>\n",
       "      <td>0.000592</td>\n",
       "      <td>0.000205</td>\n",
       "      <td>0.000349</td>\n",
       "    </tr>\n",
       "    <tr>\n",
       "      <th>2</th>\n",
       "      <td>1</td>\n",
       "      <td>201809</td>\n",
       "      <td>278.8</td>\n",
       "      <td>59</td>\n",
       "      <td>0.000854</td>\n",
       "      <td>0.000285</td>\n",
       "      <td>0.000552</td>\n",
       "    </tr>\n",
       "    <tr>\n",
       "      <th>3</th>\n",
       "      <td>1</td>\n",
       "      <td>201810</td>\n",
       "      <td>188.1</td>\n",
       "      <td>44</td>\n",
       "      <td>0.000620</td>\n",
       "      <td>0.000220</td>\n",
       "      <td>0.000373</td>\n",
       "    </tr>\n",
       "    <tr>\n",
       "      <th>4</th>\n",
       "      <td>1</td>\n",
       "      <td>201811</td>\n",
       "      <td>192.6</td>\n",
       "      <td>46</td>\n",
       "      <td>0.000647</td>\n",
       "      <td>0.000217</td>\n",
       "      <td>0.000382</td>\n",
       "    </tr>\n",
       "    <tr>\n",
       "      <th>...</th>\n",
       "      <td>...</td>\n",
       "      <td>...</td>\n",
       "      <td>...</td>\n",
       "      <td>...</td>\n",
       "      <td>...</td>\n",
       "      <td>...</td>\n",
       "      <td>...</td>\n",
       "    </tr>\n",
       "    <tr>\n",
       "      <th>3159</th>\n",
       "      <td>272</td>\n",
       "      <td>201809</td>\n",
       "      <td>304.7</td>\n",
       "      <td>32</td>\n",
       "      <td>0.000496</td>\n",
       "      <td>0.000270</td>\n",
       "      <td>0.000604</td>\n",
       "    </tr>\n",
       "    <tr>\n",
       "      <th>3160</th>\n",
       "      <td>272</td>\n",
       "      <td>201810</td>\n",
       "      <td>430.6</td>\n",
       "      <td>44</td>\n",
       "      <td>0.000688</td>\n",
       "      <td>0.000376</td>\n",
       "      <td>0.000853</td>\n",
       "    </tr>\n",
       "    <tr>\n",
       "      <th>3161</th>\n",
       "      <td>272</td>\n",
       "      <td>201811</td>\n",
       "      <td>376.2</td>\n",
       "      <td>41</td>\n",
       "      <td>0.000620</td>\n",
       "      <td>0.000331</td>\n",
       "      <td>0.000745</td>\n",
       "    </tr>\n",
       "    <tr>\n",
       "      <th>3162</th>\n",
       "      <td>272</td>\n",
       "      <td>201812</td>\n",
       "      <td>403.9</td>\n",
       "      <td>47</td>\n",
       "      <td>0.000647</td>\n",
       "      <td>0.000338</td>\n",
       "      <td>0.000800</td>\n",
       "    </tr>\n",
       "    <tr>\n",
       "      <th>3163</th>\n",
       "      <td>272</td>\n",
       "      <td>201901</td>\n",
       "      <td>423.0</td>\n",
       "      <td>46</td>\n",
       "      <td>0.000688</td>\n",
       "      <td>0.000365</td>\n",
       "      <td>0.000838</td>\n",
       "    </tr>\n",
       "  </tbody>\n",
       "</table>\n",
       "<p>1848 rows × 7 columns</p>\n",
       "</div>"
      ],
      "text/plain": [
       "      STORE_NBR  YEARMONTH  TOTAL_SALES  TOTAL_CUSTOMER  nTXNperCUSTOMER  \\\n",
       "0             1     201807        206.9              49         0.000716   \n",
       "1             1     201808        176.1              42         0.000592   \n",
       "2             1     201809        278.8              59         0.000854   \n",
       "3             1     201810        188.1              44         0.000620   \n",
       "4             1     201811        192.6              46         0.000647   \n",
       "...         ...        ...          ...             ...              ...   \n",
       "3159        272     201809        304.7              32         0.000496   \n",
       "3160        272     201810        430.6              44         0.000688   \n",
       "3161        272     201811        376.2              41         0.000620   \n",
       "3162        272     201812        403.9              47         0.000647   \n",
       "3163        272     201901        423.0              46         0.000688   \n",
       "\n",
       "      nCHIPSperTXN  avgPRICEperUNIT  \n",
       "0         0.000236         0.000410  \n",
       "1         0.000205         0.000349  \n",
       "2         0.000285         0.000552  \n",
       "3         0.000220         0.000373  \n",
       "4         0.000217         0.000382  \n",
       "...            ...              ...  \n",
       "3159      0.000270         0.000604  \n",
       "3160      0.000376         0.000853  \n",
       "3161      0.000331         0.000745  \n",
       "3162      0.000338         0.000800  \n",
       "3163      0.000365         0.000838  \n",
       "\n",
       "[1848 rows x 7 columns]"
      ]
     },
     "execution_count": 8,
     "metadata": {},
     "output_type": "execute_result"
    }
   ],
   "source": [
    "pre_trial_period=metrics[metrics['YEARMONTH']<201902]\n",
    "pre_trial_period"
   ]
  },
  {
   "cell_type": "markdown",
   "id": "b0180771",
   "metadata": {
    "papermill": {
     "duration": 0.018871,
     "end_time": "2024-10-20T15:48:18.241113",
     "exception": false,
     "start_time": "2024-10-20T15:48:18.222242",
     "status": "completed"
    },
    "tags": []
   },
   "source": [
    "selecting control store\n",
    "\n",
    "\n",
    "To ensure a fair comparison, we need to select control stores that match the trial stores in terms of sales trends and\n",
    "performance.\n",
    "\n",
    "We calculate the correlation between the trial stores and each potential control store to measure the similarity of trends.\n"
   ]
  },
  {
   "cell_type": "code",
   "execution_count": 9,
   "id": "f95c2972",
   "metadata": {
    "execution": {
     "iopub.execute_input": "2024-10-20T15:48:18.282786Z",
     "iopub.status.busy": "2024-10-20T15:48:18.282394Z",
     "iopub.status.idle": "2024-10-20T15:48:18.292577Z",
     "shell.execute_reply": "2024-10-20T15:48:18.291367Z"
    },
    "papermill": {
     "duration": 0.035004,
     "end_time": "2024-10-20T15:48:18.295200",
     "exception": false,
     "start_time": "2024-10-20T15:48:18.260196",
     "status": "completed"
    },
    "tags": []
   },
   "outputs": [],
   "source": [
    "def correlation(input_table, metric_col, trial_store_nbr):\n",
    "    store_nbr = input_table['STORE_NBR'].unique()\n",
    "    corr_table = []\n",
    "    \n",
    "    for store in store_nbr:\n",
    "        # Align data for the trial store and the current store on the common time period (YEARMONTH)\n",
    "        trial_store_data = input_table[input_table['STORE_NBR'] == trial_store_nbr][['YEARMONTH', metric_col]]\n",
    "        store_data = input_table[input_table['STORE_NBR'] == store][['YEARMONTH', metric_col]]\n",
    "        \n",
    "        # Merge the data on the common YEARMONTH to ensure the same length\n",
    "        merged_data = pd.merge(trial_store_data, store_data, on='YEARMONTH', suffixes=('_trial', '_control'))\n",
    "        \n",
    "        if len(merged_data) > 1:  # To avoid computing correlation with a single data point or no data\n",
    "            # Calculate correlation\n",
    "            corr_measure = np.corrcoef(merged_data[f'{metric_col}_trial'], merged_data[f'{metric_col}_control'])[0, 1]\n",
    "            corr_table.append({'Store1': trial_store_nbr, 'Store2': store, 'corr_measure': corr_measure})\n",
    "        else:\n",
    "            # If no data is available for comparison, append NaN\n",
    "            corr_table.append({'Store1': trial_store_nbr, 'Store2': store, 'corr_measure': np.nan})\n",
    "    \n",
    "    return pd.DataFrame(corr_table)\n"
   ]
  },
  {
   "cell_type": "code",
   "execution_count": 10,
   "id": "48fce772",
   "metadata": {
    "execution": {
     "iopub.execute_input": "2024-10-20T15:48:18.335708Z",
     "iopub.status.busy": "2024-10-20T15:48:18.335259Z",
     "iopub.status.idle": "2024-10-20T15:48:19.471330Z",
     "shell.execute_reply": "2024-10-20T15:48:19.470019Z"
    },
    "papermill": {
     "duration": 1.159935,
     "end_time": "2024-10-20T15:48:19.474420",
     "exception": false,
     "start_time": "2024-10-20T15:48:18.314485",
     "status": "completed"
    },
    "tags": []
   },
   "outputs": [
    {
     "data": {
      "text/html": [
       "<div>\n",
       "<style scoped>\n",
       "    .dataframe tbody tr th:only-of-type {\n",
       "        vertical-align: middle;\n",
       "    }\n",
       "\n",
       "    .dataframe tbody tr th {\n",
       "        vertical-align: top;\n",
       "    }\n",
       "\n",
       "    .dataframe thead th {\n",
       "        text-align: right;\n",
       "    }\n",
       "</style>\n",
       "<table border=\"1\" class=\"dataframe\">\n",
       "  <thead>\n",
       "    <tr style=\"text-align: right;\">\n",
       "      <th></th>\n",
       "      <th>Store1</th>\n",
       "      <th>Store2</th>\n",
       "      <th>corr_measure</th>\n",
       "    </tr>\n",
       "  </thead>\n",
       "  <tbody>\n",
       "    <tr>\n",
       "      <th>30</th>\n",
       "      <td>77</td>\n",
       "      <td>31</td>\n",
       "      <td>1.000000</td>\n",
       "    </tr>\n",
       "    <tr>\n",
       "      <th>76</th>\n",
       "      <td>77</td>\n",
       "      <td>77</td>\n",
       "      <td>1.000000</td>\n",
       "    </tr>\n",
       "    <tr>\n",
       "      <th>10</th>\n",
       "      <td>77</td>\n",
       "      <td>11</td>\n",
       "      <td>1.000000</td>\n",
       "    </tr>\n",
       "    <tr>\n",
       "      <th>70</th>\n",
       "      <td>77</td>\n",
       "      <td>71</td>\n",
       "      <td>0.914106</td>\n",
       "    </tr>\n",
       "    <tr>\n",
       "      <th>231</th>\n",
       "      <td>77</td>\n",
       "      <td>233</td>\n",
       "      <td>0.903774</td>\n",
       "    </tr>\n",
       "    <tr>\n",
       "      <th>...</th>\n",
       "      <td>...</td>\n",
       "      <td>...</td>\n",
       "      <td>...</td>\n",
       "    </tr>\n",
       "    <tr>\n",
       "      <th>84</th>\n",
       "      <td>77</td>\n",
       "      <td>85</td>\n",
       "      <td>NaN</td>\n",
       "    </tr>\n",
       "    <tr>\n",
       "      <th>191</th>\n",
       "      <td>77</td>\n",
       "      <td>193</td>\n",
       "      <td>NaN</td>\n",
       "    </tr>\n",
       "    <tr>\n",
       "      <th>204</th>\n",
       "      <td>77</td>\n",
       "      <td>206</td>\n",
       "      <td>NaN</td>\n",
       "    </tr>\n",
       "    <tr>\n",
       "      <th>209</th>\n",
       "      <td>77</td>\n",
       "      <td>211</td>\n",
       "      <td>NaN</td>\n",
       "    </tr>\n",
       "    <tr>\n",
       "      <th>250</th>\n",
       "      <td>77</td>\n",
       "      <td>252</td>\n",
       "      <td>NaN</td>\n",
       "    </tr>\n",
       "  </tbody>\n",
       "</table>\n",
       "<p>271 rows × 3 columns</p>\n",
       "</div>"
      ],
      "text/plain": [
       "     Store1  Store2  corr_measure\n",
       "30       77      31      1.000000\n",
       "76       77      77      1.000000\n",
       "10       77      11      1.000000\n",
       "70       77      71      0.914106\n",
       "231      77     233      0.903774\n",
       "..      ...     ...           ...\n",
       "84       77      85           NaN\n",
       "191      77     193           NaN\n",
       "204      77     206           NaN\n",
       "209      77     211           NaN\n",
       "250      77     252           NaN\n",
       "\n",
       "[271 rows x 3 columns]"
      ]
     },
     "execution_count": 10,
     "metadata": {},
     "output_type": "execute_result"
    }
   ],
   "source": [
    "trial_store=77\n",
    "corr_nSales=correlation(pre_trial_period,'TOTAL_SALES',trial_store)\n",
    "corr_nSales.sort_values(by='corr_measure',ascending=False)"
   ]
  },
  {
   "cell_type": "markdown",
   "id": "b4877422",
   "metadata": {
    "papermill": {
     "duration": 0.020106,
     "end_time": "2024-10-20T15:48:19.518950",
     "exception": false,
     "start_time": "2024-10-20T15:48:19.498844",
     "status": "completed"
    },
    "tags": []
   },
   "source": [
    "Correlation measures trend similarity, but stores can have different absolute sales numbers. \n",
    "Magnitude distance calculates the difference in absolute values between the trial and control stores. \n",
    "The distances are standardized to a 0-1 scale.\n"
   ]
  },
  {
   "cell_type": "code",
   "execution_count": 11,
   "id": "300f475d",
   "metadata": {
    "execution": {
     "iopub.execute_input": "2024-10-20T15:48:19.560416Z",
     "iopub.status.busy": "2024-10-20T15:48:19.559981Z",
     "iopub.status.idle": "2024-10-20T15:48:19.572605Z",
     "shell.execute_reply": "2024-10-20T15:48:19.571338Z"
    },
    "papermill": {
     "duration": 0.036205,
     "end_time": "2024-10-20T15:48:19.575157",
     "exception": false,
     "start_time": "2024-10-20T15:48:19.538952",
     "status": "completed"
    },
    "tags": []
   },
   "outputs": [],
   "source": [
    "def calculate_magnitude_distance(input_table, metric_col, store_comparison):\n",
    "    store_numbers = input_table['STORE_NBR'].unique()\n",
    "    dist_table = []\n",
    "    \n",
    "    for store in store_numbers:\n",
    "        # Align data for the trial store and the current store based on common YEARMONTH\n",
    "        store_comparison_data = input_table[input_table['STORE_NBR'] == store_comparison][['YEARMONTH', metric_col]]\n",
    "        store_data = input_table[input_table['STORE_NBR'] == store][['YEARMONTH', metric_col]]\n",
    "        \n",
    "        # Merge the data to ensure both have the same time period\n",
    "        merged_data = pd.merge(store_comparison_data, store_data, on='YEARMONTH', suffixes=('_comparison', '_store'))\n",
    "        \n",
    "        if len(merged_data) > 1:  # Ensure enough data points to calculate the magnitude distance\n",
    "            # Calculate the mean absolute difference between the stores' metrics\n",
    "            measure = abs(merged_data[f'{metric_col}_comparison'].values - merged_data[f'{metric_col}_store'].values).mean()\n",
    "            dist_table.append({'Store1': store_comparison, 'Store2': store, 'measure': measure})\n",
    "        else:\n",
    "            # If no data is available for comparison, append NaN\n",
    "            dist_table.append({'Store1': store_comparison, 'Store2': store, 'measure': np.nan})\n",
    "    \n",
    "    # Convert the list to a DataFrame\n",
    "    dist_df = pd.DataFrame(dist_table)\n",
    "\n",
    "    # Standardize the magnitude distances (0 to 1 scale)\n",
    "    min_max_dist = dist_df.groupby(['Store1']).agg(minDist=('measure', 'min'), maxDist=('measure', 'max')).reset_index()\n",
    "    dist_table = dist_df.merge(min_max_dist, on='Store1')\n",
    "    \n",
    "    # Calculate the standardized magnitude distance (0 to 1 scale)\n",
    "    dist_table['magnitudeMeasure'] = 1 - (dist_table['measure'] - dist_table['minDist']) / (dist_table['maxDist'] - dist_table['minDist'])\n",
    "    \n",
    "    # Return the final table with averaged magnitude measures for each store comparison\n",
    "    return dist_table.groupby(['Store1', 'Store2']).agg(mag_measure=('magnitudeMeasure', 'mean')).reset_index()\n",
    "\n"
   ]
  },
  {
   "cell_type": "code",
   "execution_count": 12,
   "id": "9e8bd68f",
   "metadata": {
    "execution": {
     "iopub.execute_input": "2024-10-20T15:48:19.615886Z",
     "iopub.status.busy": "2024-10-20T15:48:19.615434Z",
     "iopub.status.idle": "2024-10-20T15:48:20.653141Z",
     "shell.execute_reply": "2024-10-20T15:48:20.651938Z"
    },
    "papermill": {
     "duration": 1.061333,
     "end_time": "2024-10-20T15:48:20.655942",
     "exception": false,
     "start_time": "2024-10-20T15:48:19.594609",
     "status": "completed"
    },
    "tags": []
   },
   "outputs": [
    {
     "data": {
      "text/html": [
       "<div>\n",
       "<style scoped>\n",
       "    .dataframe tbody tr th:only-of-type {\n",
       "        vertical-align: middle;\n",
       "    }\n",
       "\n",
       "    .dataframe tbody tr th {\n",
       "        vertical-align: top;\n",
       "    }\n",
       "\n",
       "    .dataframe thead th {\n",
       "        text-align: right;\n",
       "    }\n",
       "</style>\n",
       "<table border=\"1\" class=\"dataframe\">\n",
       "  <thead>\n",
       "    <tr style=\"text-align: right;\">\n",
       "      <th></th>\n",
       "      <th>Store1</th>\n",
       "      <th>Store2</th>\n",
       "      <th>mag_measure</th>\n",
       "    </tr>\n",
       "  </thead>\n",
       "  <tbody>\n",
       "    <tr>\n",
       "      <th>76</th>\n",
       "      <td>77</td>\n",
       "      <td>77</td>\n",
       "      <td>1.000000</td>\n",
       "    </tr>\n",
       "    <tr>\n",
       "      <th>231</th>\n",
       "      <td>77</td>\n",
       "      <td>233</td>\n",
       "      <td>0.984567</td>\n",
       "    </tr>\n",
       "    <tr>\n",
       "      <th>253</th>\n",
       "      <td>77</td>\n",
       "      <td>255</td>\n",
       "      <td>0.976581</td>\n",
       "    </tr>\n",
       "    <tr>\n",
       "      <th>186</th>\n",
       "      <td>77</td>\n",
       "      <td>188</td>\n",
       "      <td>0.974509</td>\n",
       "    </tr>\n",
       "    <tr>\n",
       "      <th>52</th>\n",
       "      <td>77</td>\n",
       "      <td>53</td>\n",
       "      <td>0.973385</td>\n",
       "    </tr>\n",
       "    <tr>\n",
       "      <th>...</th>\n",
       "      <td>...</td>\n",
       "      <td>...</td>\n",
       "      <td>...</td>\n",
       "    </tr>\n",
       "    <tr>\n",
       "      <th>84</th>\n",
       "      <td>77</td>\n",
       "      <td>85</td>\n",
       "      <td>NaN</td>\n",
       "    </tr>\n",
       "    <tr>\n",
       "      <th>191</th>\n",
       "      <td>77</td>\n",
       "      <td>193</td>\n",
       "      <td>NaN</td>\n",
       "    </tr>\n",
       "    <tr>\n",
       "      <th>204</th>\n",
       "      <td>77</td>\n",
       "      <td>206</td>\n",
       "      <td>NaN</td>\n",
       "    </tr>\n",
       "    <tr>\n",
       "      <th>209</th>\n",
       "      <td>77</td>\n",
       "      <td>211</td>\n",
       "      <td>NaN</td>\n",
       "    </tr>\n",
       "    <tr>\n",
       "      <th>250</th>\n",
       "      <td>77</td>\n",
       "      <td>252</td>\n",
       "      <td>NaN</td>\n",
       "    </tr>\n",
       "  </tbody>\n",
       "</table>\n",
       "<p>271 rows × 3 columns</p>\n",
       "</div>"
      ],
      "text/plain": [
       "     Store1  Store2  mag_measure\n",
       "76       77      77     1.000000\n",
       "231      77     233     0.984567\n",
       "253      77     255     0.976581\n",
       "186      77     188     0.974509\n",
       "52       77      53     0.973385\n",
       "..      ...     ...          ...\n",
       "84       77      85          NaN\n",
       "191      77     193          NaN\n",
       "204      77     206          NaN\n",
       "209      77     211          NaN\n",
       "250      77     252          NaN\n",
       "\n",
       "[271 rows x 3 columns]"
      ]
     },
     "execution_count": 12,
     "metadata": {},
     "output_type": "execute_result"
    }
   ],
   "source": [
    "magnitude_nSales = calculate_magnitude_distance(pre_trial_period, 'TOTAL_SALES', 77)\n",
    "magnitude_nSales.sort_values(by='mag_measure',ascending=False)"
   ]
  },
  {
   "cell_type": "code",
   "execution_count": 13,
   "id": "fe2826f1",
   "metadata": {
    "execution": {
     "iopub.execute_input": "2024-10-20T15:48:20.698220Z",
     "iopub.status.busy": "2024-10-20T15:48:20.697744Z",
     "iopub.status.idle": "2024-10-20T15:48:20.714287Z",
     "shell.execute_reply": "2024-10-20T15:48:20.712929Z"
    },
    "papermill": {
     "duration": 0.040705,
     "end_time": "2024-10-20T15:48:20.716958",
     "exception": false,
     "start_time": "2024-10-20T15:48:20.676253",
     "status": "completed"
    },
    "tags": []
   },
   "outputs": [],
   "source": [
    "#combining correlation and magintude distance for total sales \n",
    "corr_weight=0.5\n",
    "corr_and_mag_sales=corr_nSales.merge(magnitude_nSales,on=['Store1','Store2'])\n",
    "corr_and_mag_sales['corr_mag_sales_score']=corr_and_mag_sales['corr_measure'] * corr_weight + corr_and_mag_sales['mag_measure'] * (1-corr_weight)"
   ]
  },
  {
   "cell_type": "code",
   "execution_count": 14,
   "id": "52203da4",
   "metadata": {
    "execution": {
     "iopub.execute_input": "2024-10-20T15:48:20.759622Z",
     "iopub.status.busy": "2024-10-20T15:48:20.759198Z",
     "iopub.status.idle": "2024-10-20T15:48:20.776324Z",
     "shell.execute_reply": "2024-10-20T15:48:20.775216Z"
    },
    "papermill": {
     "duration": 0.04144,
     "end_time": "2024-10-20T15:48:20.778841",
     "exception": false,
     "start_time": "2024-10-20T15:48:20.737401",
     "status": "completed"
    },
    "tags": []
   },
   "outputs": [
    {
     "data": {
      "text/html": [
       "<div>\n",
       "<style scoped>\n",
       "    .dataframe tbody tr th:only-of-type {\n",
       "        vertical-align: middle;\n",
       "    }\n",
       "\n",
       "    .dataframe tbody tr th {\n",
       "        vertical-align: top;\n",
       "    }\n",
       "\n",
       "    .dataframe thead th {\n",
       "        text-align: right;\n",
       "    }\n",
       "</style>\n",
       "<table border=\"1\" class=\"dataframe\">\n",
       "  <thead>\n",
       "    <tr style=\"text-align: right;\">\n",
       "      <th></th>\n",
       "      <th>Store1</th>\n",
       "      <th>Store2</th>\n",
       "      <th>corr_measure</th>\n",
       "      <th>mag_measure</th>\n",
       "      <th>corr_mag_sales_score</th>\n",
       "    </tr>\n",
       "  </thead>\n",
       "  <tbody>\n",
       "    <tr>\n",
       "      <th>76</th>\n",
       "      <td>77</td>\n",
       "      <td>77</td>\n",
       "      <td>1.000000</td>\n",
       "      <td>1.000000</td>\n",
       "      <td>1.000000</td>\n",
       "    </tr>\n",
       "    <tr>\n",
       "      <th>231</th>\n",
       "      <td>77</td>\n",
       "      <td>233</td>\n",
       "      <td>0.903774</td>\n",
       "      <td>0.984567</td>\n",
       "      <td>0.944171</td>\n",
       "    </tr>\n",
       "    <tr>\n",
       "      <th>30</th>\n",
       "      <td>77</td>\n",
       "      <td>31</td>\n",
       "      <td>1.000000</td>\n",
       "      <td>0.813241</td>\n",
       "      <td>0.906620</td>\n",
       "    </tr>\n",
       "    <tr>\n",
       "      <th>10</th>\n",
       "      <td>77</td>\n",
       "      <td>11</td>\n",
       "      <td>1.000000</td>\n",
       "      <td>0.809389</td>\n",
       "      <td>0.904694</td>\n",
       "    </tr>\n",
       "    <tr>\n",
       "      <th>40</th>\n",
       "      <td>77</td>\n",
       "      <td>41</td>\n",
       "      <td>0.783232</td>\n",
       "      <td>0.962834</td>\n",
       "      <td>0.873033</td>\n",
       "    </tr>\n",
       "    <tr>\n",
       "      <th>...</th>\n",
       "      <td>...</td>\n",
       "      <td>...</td>\n",
       "      <td>...</td>\n",
       "      <td>...</td>\n",
       "      <td>...</td>\n",
       "    </tr>\n",
       "    <tr>\n",
       "      <th>84</th>\n",
       "      <td>77</td>\n",
       "      <td>85</td>\n",
       "      <td>NaN</td>\n",
       "      <td>NaN</td>\n",
       "      <td>NaN</td>\n",
       "    </tr>\n",
       "    <tr>\n",
       "      <th>191</th>\n",
       "      <td>77</td>\n",
       "      <td>193</td>\n",
       "      <td>NaN</td>\n",
       "      <td>NaN</td>\n",
       "      <td>NaN</td>\n",
       "    </tr>\n",
       "    <tr>\n",
       "      <th>204</th>\n",
       "      <td>77</td>\n",
       "      <td>206</td>\n",
       "      <td>NaN</td>\n",
       "      <td>NaN</td>\n",
       "      <td>NaN</td>\n",
       "    </tr>\n",
       "    <tr>\n",
       "      <th>209</th>\n",
       "      <td>77</td>\n",
       "      <td>211</td>\n",
       "      <td>NaN</td>\n",
       "      <td>NaN</td>\n",
       "      <td>NaN</td>\n",
       "    </tr>\n",
       "    <tr>\n",
       "      <th>250</th>\n",
       "      <td>77</td>\n",
       "      <td>252</td>\n",
       "      <td>NaN</td>\n",
       "      <td>NaN</td>\n",
       "      <td>NaN</td>\n",
       "    </tr>\n",
       "  </tbody>\n",
       "</table>\n",
       "<p>271 rows × 5 columns</p>\n",
       "</div>"
      ],
      "text/plain": [
       "     Store1  Store2  corr_measure  mag_measure  corr_mag_sales_score\n",
       "76       77      77      1.000000     1.000000              1.000000\n",
       "231      77     233      0.903774     0.984567              0.944171\n",
       "30       77      31      1.000000     0.813241              0.906620\n",
       "10       77      11      1.000000     0.809389              0.904694\n",
       "40       77      41      0.783232     0.962834              0.873033\n",
       "..      ...     ...           ...          ...                   ...\n",
       "84       77      85           NaN          NaN                   NaN\n",
       "191      77     193           NaN          NaN                   NaN\n",
       "204      77     206           NaN          NaN                   NaN\n",
       "209      77     211           NaN          NaN                   NaN\n",
       "250      77     252           NaN          NaN                   NaN\n",
       "\n",
       "[271 rows x 5 columns]"
      ]
     },
     "execution_count": 14,
     "metadata": {},
     "output_type": "execute_result"
    }
   ],
   "source": [
    "corr_and_mag_sales.sort_values(by='corr_mag_sales_score',ascending=False)"
   ]
  },
  {
   "cell_type": "code",
   "execution_count": 15,
   "id": "fc1597eb",
   "metadata": {
    "execution": {
     "iopub.execute_input": "2024-10-20T15:48:20.821955Z",
     "iopub.status.busy": "2024-10-20T15:48:20.821476Z",
     "iopub.status.idle": "2024-10-20T15:48:22.868580Z",
     "shell.execute_reply": "2024-10-20T15:48:22.867381Z"
    },
    "papermill": {
     "duration": 2.071968,
     "end_time": "2024-10-20T15:48:22.871520",
     "exception": false,
     "start_time": "2024-10-20T15:48:20.799552",
     "status": "completed"
    },
    "tags": []
   },
   "outputs": [],
   "source": [
    "# For number of customers\n",
    "corr_customer=correlation(pre_trial_period,'TOTAL_CUSTOMER',77)\n",
    "mag_customer=calculate_magnitude_distance(pre_trial_period,'TOTAL_CUSTOMER',77)\n",
    "\n",
    "#combining correlation and magnitude distance for total number of customers \n",
    "\n",
    "corr_and_mag_cust=corr_customer.merge(mag_customer,on=['Store1','Store2'])\n",
    "corr_and_mag_cust['corr_mag_cust_score']=corr_and_mag_cust['corr_measure']*0.5+corr_and_mag_cust['mag_measure']*(1-0.5)"
   ]
  },
  {
   "cell_type": "code",
   "execution_count": 16,
   "id": "c59ab350",
   "metadata": {
    "execution": {
     "iopub.execute_input": "2024-10-20T15:48:22.915209Z",
     "iopub.status.busy": "2024-10-20T15:48:22.914765Z",
     "iopub.status.idle": "2024-10-20T15:48:22.926991Z",
     "shell.execute_reply": "2024-10-20T15:48:22.925749Z"
    },
    "papermill": {
     "duration": 0.037508,
     "end_time": "2024-10-20T15:48:22.929612",
     "exception": false,
     "start_time": "2024-10-20T15:48:22.892104",
     "status": "completed"
    },
    "tags": []
   },
   "outputs": [],
   "source": [
    "#combining correlation and magnitude distance of total sales and total number of customers along with their scores on store1 and store 2\n",
    "final_score=corr_and_mag_sales.merge(corr_and_mag_cust,on=['Store1','Store2'])\n",
    "final_score['final_score']=final_score['corr_mag_sales_score']*0.5+final_score['corr_mag_cust_score']*(1-0.5)\n"
   ]
  },
  {
   "cell_type": "code",
   "execution_count": 17,
   "id": "cf46e1d0",
   "metadata": {
    "execution": {
     "iopub.execute_input": "2024-10-20T15:48:22.972445Z",
     "iopub.status.busy": "2024-10-20T15:48:22.972004Z",
     "iopub.status.idle": "2024-10-20T15:48:22.992977Z",
     "shell.execute_reply": "2024-10-20T15:48:22.991857Z"
    },
    "papermill": {
     "duration": 0.045636,
     "end_time": "2024-10-20T15:48:22.995726",
     "exception": false,
     "start_time": "2024-10-20T15:48:22.950090",
     "status": "completed"
    },
    "tags": []
   },
   "outputs": [
    {
     "data": {
      "text/html": [
       "<div>\n",
       "<style scoped>\n",
       "    .dataframe tbody tr th:only-of-type {\n",
       "        vertical-align: middle;\n",
       "    }\n",
       "\n",
       "    .dataframe tbody tr th {\n",
       "        vertical-align: top;\n",
       "    }\n",
       "\n",
       "    .dataframe thead th {\n",
       "        text-align: right;\n",
       "    }\n",
       "</style>\n",
       "<table border=\"1\" class=\"dataframe\">\n",
       "  <thead>\n",
       "    <tr style=\"text-align: right;\">\n",
       "      <th></th>\n",
       "      <th>Store1</th>\n",
       "      <th>Store2</th>\n",
       "      <th>corr_measure_x</th>\n",
       "      <th>mag_measure_x</th>\n",
       "      <th>corr_mag_sales_score</th>\n",
       "      <th>corr_measure_y</th>\n",
       "      <th>mag_measure_y</th>\n",
       "      <th>corr_mag_cust_score</th>\n",
       "      <th>final_score</th>\n",
       "    </tr>\n",
       "  </thead>\n",
       "  <tbody>\n",
       "    <tr>\n",
       "      <th>76</th>\n",
       "      <td>77</td>\n",
       "      <td>77</td>\n",
       "      <td>1.000000</td>\n",
       "      <td>1.000000</td>\n",
       "      <td>1.000000</td>\n",
       "      <td>1.000000</td>\n",
       "      <td>1.000000</td>\n",
       "      <td>1.000000</td>\n",
       "      <td>1.000000</td>\n",
       "    </tr>\n",
       "    <tr>\n",
       "      <th>231</th>\n",
       "      <td>77</td>\n",
       "      <td>233</td>\n",
       "      <td>0.903774</td>\n",
       "      <td>0.984567</td>\n",
       "      <td>0.944171</td>\n",
       "      <td>0.990358</td>\n",
       "      <td>0.992343</td>\n",
       "      <td>0.991350</td>\n",
       "      <td>0.967761</td>\n",
       "    </tr>\n",
       "    <tr>\n",
       "      <th>40</th>\n",
       "      <td>77</td>\n",
       "      <td>41</td>\n",
       "      <td>0.783232</td>\n",
       "      <td>0.962834</td>\n",
       "      <td>0.873033</td>\n",
       "      <td>0.844219</td>\n",
       "      <td>0.973966</td>\n",
       "      <td>0.909093</td>\n",
       "      <td>0.891063</td>\n",
       "    </tr>\n",
       "    <tr>\n",
       "      <th>16</th>\n",
       "      <td>77</td>\n",
       "      <td>17</td>\n",
       "      <td>0.842668</td>\n",
       "      <td>0.872450</td>\n",
       "      <td>0.857559</td>\n",
       "      <td>0.747308</td>\n",
       "      <td>0.961715</td>\n",
       "      <td>0.854511</td>\n",
       "      <td>0.856035</td>\n",
       "    </tr>\n",
       "    <tr>\n",
       "      <th>252</th>\n",
       "      <td>77</td>\n",
       "      <td>254</td>\n",
       "      <td>0.577108</td>\n",
       "      <td>0.917168</td>\n",
       "      <td>0.747138</td>\n",
       "      <td>0.916208</td>\n",
       "      <td>0.934150</td>\n",
       "      <td>0.925179</td>\n",
       "      <td>0.836159</td>\n",
       "    </tr>\n",
       "    <tr>\n",
       "      <th>...</th>\n",
       "      <td>...</td>\n",
       "      <td>...</td>\n",
       "      <td>...</td>\n",
       "      <td>...</td>\n",
       "      <td>...</td>\n",
       "      <td>...</td>\n",
       "      <td>...</td>\n",
       "      <td>...</td>\n",
       "      <td>...</td>\n",
       "    </tr>\n",
       "    <tr>\n",
       "      <th>84</th>\n",
       "      <td>77</td>\n",
       "      <td>85</td>\n",
       "      <td>NaN</td>\n",
       "      <td>NaN</td>\n",
       "      <td>NaN</td>\n",
       "      <td>NaN</td>\n",
       "      <td>NaN</td>\n",
       "      <td>NaN</td>\n",
       "      <td>NaN</td>\n",
       "    </tr>\n",
       "    <tr>\n",
       "      <th>191</th>\n",
       "      <td>77</td>\n",
       "      <td>193</td>\n",
       "      <td>NaN</td>\n",
       "      <td>NaN</td>\n",
       "      <td>NaN</td>\n",
       "      <td>NaN</td>\n",
       "      <td>NaN</td>\n",
       "      <td>NaN</td>\n",
       "      <td>NaN</td>\n",
       "    </tr>\n",
       "    <tr>\n",
       "      <th>204</th>\n",
       "      <td>77</td>\n",
       "      <td>206</td>\n",
       "      <td>NaN</td>\n",
       "      <td>NaN</td>\n",
       "      <td>NaN</td>\n",
       "      <td>NaN</td>\n",
       "      <td>NaN</td>\n",
       "      <td>NaN</td>\n",
       "      <td>NaN</td>\n",
       "    </tr>\n",
       "    <tr>\n",
       "      <th>209</th>\n",
       "      <td>77</td>\n",
       "      <td>211</td>\n",
       "      <td>NaN</td>\n",
       "      <td>NaN</td>\n",
       "      <td>NaN</td>\n",
       "      <td>NaN</td>\n",
       "      <td>NaN</td>\n",
       "      <td>NaN</td>\n",
       "      <td>NaN</td>\n",
       "    </tr>\n",
       "    <tr>\n",
       "      <th>250</th>\n",
       "      <td>77</td>\n",
       "      <td>252</td>\n",
       "      <td>NaN</td>\n",
       "      <td>NaN</td>\n",
       "      <td>NaN</td>\n",
       "      <td>NaN</td>\n",
       "      <td>NaN</td>\n",
       "      <td>NaN</td>\n",
       "      <td>NaN</td>\n",
       "    </tr>\n",
       "  </tbody>\n",
       "</table>\n",
       "<p>271 rows × 9 columns</p>\n",
       "</div>"
      ],
      "text/plain": [
       "     Store1  Store2  corr_measure_x  mag_measure_x  corr_mag_sales_score  \\\n",
       "76       77      77        1.000000       1.000000              1.000000   \n",
       "231      77     233        0.903774       0.984567              0.944171   \n",
       "40       77      41        0.783232       0.962834              0.873033   \n",
       "16       77      17        0.842668       0.872450              0.857559   \n",
       "252      77     254        0.577108       0.917168              0.747138   \n",
       "..      ...     ...             ...            ...                   ...   \n",
       "84       77      85             NaN            NaN                   NaN   \n",
       "191      77     193             NaN            NaN                   NaN   \n",
       "204      77     206             NaN            NaN                   NaN   \n",
       "209      77     211             NaN            NaN                   NaN   \n",
       "250      77     252             NaN            NaN                   NaN   \n",
       "\n",
       "     corr_measure_y  mag_measure_y  corr_mag_cust_score  final_score  \n",
       "76         1.000000       1.000000             1.000000     1.000000  \n",
       "231        0.990358       0.992343             0.991350     0.967761  \n",
       "40         0.844219       0.973966             0.909093     0.891063  \n",
       "16         0.747308       0.961715             0.854511     0.856035  \n",
       "252        0.916208       0.934150             0.925179     0.836159  \n",
       "..              ...            ...                  ...          ...  \n",
       "84              NaN            NaN                  NaN          NaN  \n",
       "191             NaN            NaN                  NaN          NaN  \n",
       "204             NaN            NaN                  NaN          NaN  \n",
       "209             NaN            NaN                  NaN          NaN  \n",
       "250             NaN            NaN                  NaN          NaN  \n",
       "\n",
       "[271 rows x 9 columns]"
      ]
     },
     "execution_count": 17,
     "metadata": {},
     "output_type": "execute_result"
    }
   ],
   "source": [
    "final_score.sort_values(by='final_score',ascending=False)"
   ]
  },
  {
   "cell_type": "code",
   "execution_count": 18,
   "id": "6a72a04e",
   "metadata": {
    "execution": {
     "iopub.execute_input": "2024-10-20T15:48:23.039857Z",
     "iopub.status.busy": "2024-10-20T15:48:23.039430Z",
     "iopub.status.idle": "2024-10-20T15:48:23.049723Z",
     "shell.execute_reply": "2024-10-20T15:48:23.048602Z"
    },
    "papermill": {
     "duration": 0.035462,
     "end_time": "2024-10-20T15:48:23.052387",
     "exception": false,
     "start_time": "2024-10-20T15:48:23.016925",
     "status": "completed"
    },
    "tags": []
   },
   "outputs": [
    {
     "data": {
      "text/plain": [
       "233.0"
      ]
     },
     "execution_count": 18,
     "metadata": {},
     "output_type": "execute_result"
    }
   ],
   "source": [
    "control_store = final_score.loc[final_score['Store1'] == trial_store].sort_values('final_score', ascending=False).iloc[1]['Store2']\n",
    "control_store"
   ]
  },
  {
   "cell_type": "raw",
   "id": "d7c26ec2",
   "metadata": {
    "papermill": {
     "duration": 0.021337,
     "end_time": "2024-10-20T15:48:23.095710",
     "exception": false,
     "start_time": "2024-10-20T15:48:23.074373",
     "status": "completed"
    },
    "tags": []
   },
   "source": [
    "LET'S CONFIRM OUR ANALYSIS USING VISUALIZATION "
   ]
  },
  {
   "cell_type": "markdown",
   "id": "87fc1dd5",
   "metadata": {
    "papermill": {
     "duration": 0.020864,
     "end_time": "2024-10-20T15:48:23.137831",
     "exception": false,
     "start_time": "2024-10-20T15:48:23.116967",
     "status": "completed"
    },
    "tags": []
   },
   "source": [
    "VISUALIZATION FOR TOTAL SALES OVER MONTH "
   ]
  },
  {
   "cell_type": "code",
   "execution_count": 19,
   "id": "900022ed",
   "metadata": {
    "execution": {
     "iopub.execute_input": "2024-10-20T15:48:23.182529Z",
     "iopub.status.busy": "2024-10-20T15:48:23.182131Z",
     "iopub.status.idle": "2024-10-20T15:48:23.204765Z",
     "shell.execute_reply": "2024-10-20T15:48:23.203519Z"
    },
    "papermill": {
     "duration": 0.048105,
     "end_time": "2024-10-20T15:48:23.207658",
     "exception": false,
     "start_time": "2024-10-20T15:48:23.159553",
     "status": "completed"
    },
    "tags": []
   },
   "outputs": [],
   "source": [
    "control_store_nbr=233\n",
    "trial_store_nbr=77\n",
    "control_store_sales=metrics[metrics['STORE_NBR']==control_store_nbr][['YEARMONTH','TOTAL_SALES']]\n",
    "trial_store_sales=metrics[metrics['STORE_NBR']==trial_store_nbr][['YEARMONTH','TOTAL_SALES']]\n",
    "other_store_sales=metrics[~metrics['STORE_NBR'].isin([control_store_nbr,trial_store_nbr])][['YEARMONTH','TOTAL_SALES']]\n",
    "\n",
    "control_store_sales['YEARMONTH'] = pd.to_datetime(control_store_sales['YEARMONTH'].astype(str) + '01', format='%Y%m%d')\n",
    "trial_store_sales['YEARMONTH'] = pd.to_datetime(trial_store_sales['YEARMONTH'].astype(str) + '01', format='%Y%m%d')\n",
    "other_store_sales['YEARMONTH'] = pd.to_datetime(other_store_sales['YEARMONTH'].astype(str) + '01', format='%Y%m%d')\n"
   ]
  },
  {
   "cell_type": "code",
   "execution_count": 20,
   "id": "07d8d9a5",
   "metadata": {
    "execution": {
     "iopub.execute_input": "2024-10-20T15:48:23.252605Z",
     "iopub.status.busy": "2024-10-20T15:48:23.252170Z",
     "iopub.status.idle": "2024-10-20T15:48:24.169844Z",
     "shell.execute_reply": "2024-10-20T15:48:24.168532Z"
    },
    "papermill": {
     "duration": 0.943653,
     "end_time": "2024-10-20T15:48:24.172880",
     "exception": false,
     "start_time": "2024-10-20T15:48:23.229227",
     "status": "completed"
    },
    "tags": []
   },
   "outputs": [
    {
     "data": {
      "image/png": "[encoded data removed]",
      "text/plain": [
       "<Figure size 1000x600 with 1 Axes>"
      ]
     },
     "metadata": {},
     "output_type": "display_data"
    }
   ],
   "source": [
    "\n",
    "plt.figure(figsize=(10, 6))\n",
    "\n",
    "sns.lineplot(data=control_store_sales,x='YEARMONTH',y='TOTAL_SALES',label='control_store')\n",
    "sns.lineplot(data=trial_store_sales,x='YEARMONTH',y='TOTAL_SALES',label='trial_store')\n",
    "sns.lineplot(data=other_store_sales,x='YEARMONTH',y='TOTAL_SALES',label='other_store')\n",
    "plt.title('TOTAL SALES BY MONTH OF TRIAL STORE 77 AND CONTROL STORE 233 ALONG WITH OTHER STORE',fontsize=8)\n",
    "plt.ylabel('TOTAL SALES')\n",
    "plt.legend()\n",
    "plt.show()"
   ]
  },
  {
   "cell_type": "markdown",
   "id": "e179f5d8",
   "metadata": {
    "papermill": {
     "duration": 0.022159,
     "end_time": "2024-10-20T15:48:24.218088",
     "exception": false,
     "start_time": "2024-10-20T15:48:24.195929",
     "status": "completed"
    },
    "tags": []
   },
   "source": [
    "VISUALIZATION FOR TOTAL CUSTOMERS BY MONTHS "
   ]
  },
  {
   "cell_type": "code",
   "execution_count": 21,
   "id": "6281071f",
   "metadata": {
    "execution": {
     "iopub.execute_input": "2024-10-20T15:48:24.264805Z",
     "iopub.status.busy": "2024-10-20T15:48:24.264366Z",
     "iopub.status.idle": "2024-10-20T15:48:24.285566Z",
     "shell.execute_reply": "2024-10-20T15:48:24.284542Z"
    },
    "papermill": {
     "duration": 0.048182,
     "end_time": "2024-10-20T15:48:24.288616",
     "exception": false,
     "start_time": "2024-10-20T15:48:24.240434",
     "status": "completed"
    },
    "tags": []
   },
   "outputs": [],
   "source": [
    "control_store_nbr=233\n",
    "trial_store_nbr=77\n",
    "control_store_cust=metrics[metrics['STORE_NBR']==control_store_nbr][['YEARMONTH','TOTAL_CUSTOMER']]\n",
    "trial_store_cust=metrics[metrics['STORE_NBR']==trial_store_nbr][['YEARMONTH','TOTAL_CUSTOMER']]\n",
    "other_store_cust=metrics[~metrics['STORE_NBR'].isin([control_store_nbr,trial_store_nbr])][['YEARMONTH','TOTAL_CUSTOMER']]\n",
    "\n",
    "control_store_cust['YEARMONTH'] = pd.to_datetime(control_store_cust['YEARMONTH'].astype(str)+'01', format='%Y%m%d')\n",
    "trial_store_cust['YEARMONTH'] = pd.to_datetime(trial_store_cust['YEARMONTH'].astype(str) + '01', format='%Y%m%d')\n",
    "other_store_cust['YEARMONTH'] = pd.to_datetime(other_store_cust['YEARMONTH'].astype(str) + '01', format='%Y%m%d')\n"
   ]
  },
  {
   "cell_type": "code",
   "execution_count": 22,
   "id": "1045de01",
   "metadata": {
    "execution": {
     "iopub.execute_input": "2024-10-20T15:48:24.337392Z",
     "iopub.status.busy": "2024-10-20T15:48:24.336986Z",
     "iopub.status.idle": "2024-10-20T15:48:24.349273Z",
     "shell.execute_reply": "2024-10-20T15:48:24.347918Z"
    },
    "papermill": {
     "duration": 0.039062,
     "end_time": "2024-10-20T15:48:24.351754",
     "exception": false,
     "start_time": "2024-10-20T15:48:24.312692",
     "status": "completed"
    },
    "tags": []
   },
   "outputs": [
    {
     "data": {
      "text/html": [
       "<div>\n",
       "<style scoped>\n",
       "    .dataframe tbody tr th:only-of-type {\n",
       "        vertical-align: middle;\n",
       "    }\n",
       "\n",
       "    .dataframe tbody tr th {\n",
       "        vertical-align: top;\n",
       "    }\n",
       "\n",
       "    .dataframe thead th {\n",
       "        text-align: right;\n",
       "    }\n",
       "</style>\n",
       "<table border=\"1\" class=\"dataframe\">\n",
       "  <thead>\n",
       "    <tr style=\"text-align: right;\">\n",
       "      <th></th>\n",
       "      <th>YEARMONTH</th>\n",
       "      <th>TOTAL_CUSTOMER</th>\n",
       "    </tr>\n",
       "  </thead>\n",
       "  <tbody>\n",
       "    <tr>\n",
       "      <th>2699</th>\n",
       "      <td>2018-07-01</td>\n",
       "      <td>51</td>\n",
       "    </tr>\n",
       "    <tr>\n",
       "      <th>2700</th>\n",
       "      <td>2018-08-01</td>\n",
       "      <td>48</td>\n",
       "    </tr>\n",
       "    <tr>\n",
       "      <th>2701</th>\n",
       "      <td>2018-09-01</td>\n",
       "      <td>42</td>\n",
       "    </tr>\n",
       "    <tr>\n",
       "      <th>2702</th>\n",
       "      <td>2018-10-01</td>\n",
       "      <td>35</td>\n",
       "    </tr>\n",
       "    <tr>\n",
       "      <th>2703</th>\n",
       "      <td>2018-11-01</td>\n",
       "      <td>40</td>\n",
       "    </tr>\n",
       "    <tr>\n",
       "      <th>2704</th>\n",
       "      <td>2018-12-01</td>\n",
       "      <td>47</td>\n",
       "    </tr>\n",
       "    <tr>\n",
       "      <th>2705</th>\n",
       "      <td>2019-01-01</td>\n",
       "      <td>35</td>\n",
       "    </tr>\n",
       "    <tr>\n",
       "      <th>2706</th>\n",
       "      <td>2019-02-01</td>\n",
       "      <td>45</td>\n",
       "    </tr>\n",
       "    <tr>\n",
       "      <th>2707</th>\n",
       "      <td>2019-03-01</td>\n",
       "      <td>40</td>\n",
       "    </tr>\n",
       "    <tr>\n",
       "      <th>2708</th>\n",
       "      <td>2019-04-01</td>\n",
       "      <td>30</td>\n",
       "    </tr>\n",
       "    <tr>\n",
       "      <th>2709</th>\n",
       "      <td>2019-05-01</td>\n",
       "      <td>57</td>\n",
       "    </tr>\n",
       "    <tr>\n",
       "      <th>2710</th>\n",
       "      <td>2019-06-01</td>\n",
       "      <td>41</td>\n",
       "    </tr>\n",
       "  </tbody>\n",
       "</table>\n",
       "</div>"
      ],
      "text/plain": [
       "      YEARMONTH  TOTAL_CUSTOMER\n",
       "2699 2018-07-01              51\n",
       "2700 2018-08-01              48\n",
       "2701 2018-09-01              42\n",
       "2702 2018-10-01              35\n",
       "2703 2018-11-01              40\n",
       "2704 2018-12-01              47\n",
       "2705 2019-01-01              35\n",
       "2706 2019-02-01              45\n",
       "2707 2019-03-01              40\n",
       "2708 2019-04-01              30\n",
       "2709 2019-05-01              57\n",
       "2710 2019-06-01              41"
      ]
     },
     "execution_count": 22,
     "metadata": {},
     "output_type": "execute_result"
    }
   ],
   "source": [
    "control_store_cust"
   ]
  },
  {
   "cell_type": "code",
   "execution_count": 23,
   "id": "1f03f727",
   "metadata": {
    "execution": {
     "iopub.execute_input": "2024-10-20T15:48:24.400190Z",
     "iopub.status.busy": "2024-10-20T15:48:24.399321Z",
     "iopub.status.idle": "2024-10-20T15:48:25.296485Z",
     "shell.execute_reply": "2024-10-20T15:48:25.295304Z"
    },
    "papermill": {
     "duration": 0.92487,
     "end_time": "2024-10-20T15:48:25.299836",
     "exception": false,
     "start_time": "2024-10-20T15:48:24.374966",
     "status": "completed"
    },
    "tags": []
   },
   "outputs": [
    {
     "data": {
      "image/png": "[encoded data removed]",
      "text/plain": [
       "<Figure size 1000x600 with 1 Axes>"
      ]
     },
     "metadata": {},
     "output_type": "display_data"
    }
   ],
   "source": [
    "plt.figure(figsize=(10, 6))\n",
    "\n",
    "sns.lineplot(data=control_store_cust,x='YEARMONTH',y='TOTAL_CUSTOMER',label='control_store')\n",
    "sns.lineplot(data=trial_store_cust,x='YEARMONTH',y='TOTAL_CUSTOMER',label='trial_store')\n",
    "sns.lineplot(data=other_store_cust,x='YEARMONTH',y='TOTAL_CUSTOMER',label='other_store')\n",
    "plt.title('TOTAL CUSTOMERS BY MONTH OF TRIAL STORE 77 AND CONTROL STORE 233 ALONG WITH OTHER STORE',fontsize=8)\n",
    "plt.ylabel('TOTAL CUSTOMER')\n",
    "plt.legend()\n",
    "plt.show()"
   ]
  },
  {
   "cell_type": "markdown",
   "id": "930c3ecb",
   "metadata": {
    "papermill": {
     "duration": 0.024052,
     "end_time": "2024-10-20T15:48:25.350635",
     "exception": false,
     "start_time": "2024-10-20T15:48:25.326583",
     "status": "completed"
    },
    "tags": []
   },
   "source": [
    "\n",
    "                                                        FOR TRIAL STORE 86\n"
   ]
  },
  {
   "cell_type": "markdown",
   "id": "06393809",
   "metadata": {
    "papermill": {
     "duration": 0.023976,
     "end_time": "2024-10-20T15:48:25.398653",
     "exception": false,
     "start_time": "2024-10-20T15:48:25.374677",
     "status": "completed"
    },
    "tags": []
   },
   "source": [
    "FOR TOTAL SALES"
   ]
  },
  {
   "cell_type": "code",
   "execution_count": 24,
   "id": "54551851",
   "metadata": {
    "execution": {
     "iopub.execute_input": "2024-10-20T15:48:25.449689Z",
     "iopub.status.busy": "2024-10-20T15:48:25.449272Z",
     "iopub.status.idle": "2024-10-20T15:48:27.521914Z",
     "shell.execute_reply": "2024-10-20T15:48:27.520636Z"
    },
    "papermill": {
     "duration": 2.101887,
     "end_time": "2024-10-20T15:48:27.524720",
     "exception": false,
     "start_time": "2024-10-20T15:48:25.422833",
     "status": "completed"
    },
    "tags": []
   },
   "outputs": [],
   "source": [
    "corr_sales=correlation(pre_trial_period,'TOTAL_SALES',86)\n",
    "dist_sales=calculate_magnitude_distance(pre_trial_period,'TOTAL_SALES',86)"
   ]
  },
  {
   "cell_type": "code",
   "execution_count": 25,
   "id": "3b757ab9",
   "metadata": {
    "execution": {
     "iopub.execute_input": "2024-10-20T15:48:27.576009Z",
     "iopub.status.busy": "2024-10-20T15:48:27.575540Z",
     "iopub.status.idle": "2024-10-20T15:48:27.586798Z",
     "shell.execute_reply": "2024-10-20T15:48:27.585627Z"
    },
    "papermill": {
     "duration": 0.039953,
     "end_time": "2024-10-20T15:48:27.589447",
     "exception": false,
     "start_time": "2024-10-20T15:48:27.549494",
     "status": "completed"
    },
    "tags": []
   },
   "outputs": [],
   "source": [
    "#combining correaltion and distance metric of trial store number 86\n",
    "corr_weight=0.5\n",
    "corr_dist_sales=corr_sales.merge(dist_sales,on=['Store1','Store2'])\n",
    "corr_dist_sales['corr_mag_sales_score']=corr_dist_sales['corr_measure']*corr_weight+corr_dist_sales['mag_measure']*corr_weight"
   ]
  },
  {
   "cell_type": "code",
   "execution_count": 26,
   "id": "2fe7b320",
   "metadata": {
    "execution": {
     "iopub.execute_input": "2024-10-20T15:48:27.640554Z",
     "iopub.status.busy": "2024-10-20T15:48:27.639755Z",
     "iopub.status.idle": "2024-10-20T15:48:27.656117Z",
     "shell.execute_reply": "2024-10-20T15:48:27.654997Z"
    },
    "papermill": {
     "duration": 0.04521,
     "end_time": "2024-10-20T15:48:27.659007",
     "exception": false,
     "start_time": "2024-10-20T15:48:27.613797",
     "status": "completed"
    },
    "tags": []
   },
   "outputs": [
    {
     "data": {
      "text/html": [
       "<div>\n",
       "<style scoped>\n",
       "    .dataframe tbody tr th:only-of-type {\n",
       "        vertical-align: middle;\n",
       "    }\n",
       "\n",
       "    .dataframe tbody tr th {\n",
       "        vertical-align: top;\n",
       "    }\n",
       "\n",
       "    .dataframe thead th {\n",
       "        text-align: right;\n",
       "    }\n",
       "</style>\n",
       "<table border=\"1\" class=\"dataframe\">\n",
       "  <thead>\n",
       "    <tr style=\"text-align: right;\">\n",
       "      <th></th>\n",
       "      <th>Store1</th>\n",
       "      <th>Store2</th>\n",
       "      <th>corr_measure</th>\n",
       "      <th>mag_measure</th>\n",
       "      <th>corr_mag_sales_score</th>\n",
       "    </tr>\n",
       "  </thead>\n",
       "  <tbody>\n",
       "    <tr>\n",
       "      <th>85</th>\n",
       "      <td>86</td>\n",
       "      <td>86</td>\n",
       "      <td>1.000000</td>\n",
       "      <td>1.000000</td>\n",
       "      <td>1.000000</td>\n",
       "    </tr>\n",
       "    <tr>\n",
       "      <th>153</th>\n",
       "      <td>86</td>\n",
       "      <td>155</td>\n",
       "      <td>0.877882</td>\n",
       "      <td>0.964282</td>\n",
       "      <td>0.921082</td>\n",
       "    </tr>\n",
       "    <tr>\n",
       "      <th>220</th>\n",
       "      <td>86</td>\n",
       "      <td>222</td>\n",
       "      <td>0.795075</td>\n",
       "      <td>0.960541</td>\n",
       "      <td>0.877808</td>\n",
       "    </tr>\n",
       "    <tr>\n",
       "      <th>107</th>\n",
       "      <td>86</td>\n",
       "      <td>109</td>\n",
       "      <td>0.788300</td>\n",
       "      <td>0.965225</td>\n",
       "      <td>0.876762</td>\n",
       "    </tr>\n",
       "    <tr>\n",
       "      <th>136</th>\n",
       "      <td>86</td>\n",
       "      <td>138</td>\n",
       "      <td>0.759864</td>\n",
       "      <td>0.928006</td>\n",
       "      <td>0.843935</td>\n",
       "    </tr>\n",
       "    <tr>\n",
       "      <th>...</th>\n",
       "      <td>...</td>\n",
       "      <td>...</td>\n",
       "      <td>...</td>\n",
       "      <td>...</td>\n",
       "      <td>...</td>\n",
       "    </tr>\n",
       "    <tr>\n",
       "      <th>84</th>\n",
       "      <td>86</td>\n",
       "      <td>85</td>\n",
       "      <td>NaN</td>\n",
       "      <td>NaN</td>\n",
       "      <td>NaN</td>\n",
       "    </tr>\n",
       "    <tr>\n",
       "      <th>191</th>\n",
       "      <td>86</td>\n",
       "      <td>193</td>\n",
       "      <td>NaN</td>\n",
       "      <td>NaN</td>\n",
       "      <td>NaN</td>\n",
       "    </tr>\n",
       "    <tr>\n",
       "      <th>204</th>\n",
       "      <td>86</td>\n",
       "      <td>206</td>\n",
       "      <td>NaN</td>\n",
       "      <td>NaN</td>\n",
       "      <td>NaN</td>\n",
       "    </tr>\n",
       "    <tr>\n",
       "      <th>209</th>\n",
       "      <td>86</td>\n",
       "      <td>211</td>\n",
       "      <td>NaN</td>\n",
       "      <td>NaN</td>\n",
       "      <td>NaN</td>\n",
       "    </tr>\n",
       "    <tr>\n",
       "      <th>250</th>\n",
       "      <td>86</td>\n",
       "      <td>252</td>\n",
       "      <td>NaN</td>\n",
       "      <td>NaN</td>\n",
       "      <td>NaN</td>\n",
       "    </tr>\n",
       "  </tbody>\n",
       "</table>\n",
       "<p>271 rows × 5 columns</p>\n",
       "</div>"
      ],
      "text/plain": [
       "     Store1  Store2  corr_measure  mag_measure  corr_mag_sales_score\n",
       "85       86      86      1.000000     1.000000              1.000000\n",
       "153      86     155      0.877882     0.964282              0.921082\n",
       "220      86     222      0.795075     0.960541              0.877808\n",
       "107      86     109      0.788300     0.965225              0.876762\n",
       "136      86     138      0.759864     0.928006              0.843935\n",
       "..      ...     ...           ...          ...                   ...\n",
       "84       86      85           NaN          NaN                   NaN\n",
       "191      86     193           NaN          NaN                   NaN\n",
       "204      86     206           NaN          NaN                   NaN\n",
       "209      86     211           NaN          NaN                   NaN\n",
       "250      86     252           NaN          NaN                   NaN\n",
       "\n",
       "[271 rows x 5 columns]"
      ]
     },
     "execution_count": 26,
     "metadata": {},
     "output_type": "execute_result"
    }
   ],
   "source": [
    "corr_dist_sales.sort_values(by='corr_mag_sales_score',ascending=False)"
   ]
  },
  {
   "cell_type": "markdown",
   "id": "da1360e8",
   "metadata": {
    "papermill": {
     "duration": 0.024493,
     "end_time": "2024-10-20T15:48:27.708922",
     "exception": false,
     "start_time": "2024-10-20T15:48:27.684429",
     "status": "completed"
    },
    "tags": []
   },
   "source": [
    "FOR TOTAL CUSTOMERS"
   ]
  },
  {
   "cell_type": "code",
   "execution_count": 27,
   "id": "4918db3c",
   "metadata": {
    "execution": {
     "iopub.execute_input": "2024-10-20T15:48:27.760547Z",
     "iopub.status.busy": "2024-10-20T15:48:27.760093Z",
     "iopub.status.idle": "2024-10-20T15:48:29.806747Z",
     "shell.execute_reply": "2024-10-20T15:48:29.805655Z"
    },
    "papermill": {
     "duration": 2.075713,
     "end_time": "2024-10-20T15:48:29.809559",
     "exception": false,
     "start_time": "2024-10-20T15:48:27.733846",
     "status": "completed"
    },
    "tags": []
   },
   "outputs": [],
   "source": [
    "corr_cust=correlation(pre_trial_period,'TOTAL_CUSTOMER',86)\n",
    "dist_cust=calculate_magnitude_distance(pre_trial_period,'TOTAL_CUSTOMER',86)"
   ]
  },
  {
   "cell_type": "code",
   "execution_count": 28,
   "id": "71023539",
   "metadata": {
    "execution": {
     "iopub.execute_input": "2024-10-20T15:48:29.861864Z",
     "iopub.status.busy": "2024-10-20T15:48:29.861438Z",
     "iopub.status.idle": "2024-10-20T15:48:29.872265Z",
     "shell.execute_reply": "2024-10-20T15:48:29.871148Z"
    },
    "papermill": {
     "duration": 0.03994,
     "end_time": "2024-10-20T15:48:29.875004",
     "exception": false,
     "start_time": "2024-10-20T15:48:29.835064",
     "status": "completed"
    },
    "tags": []
   },
   "outputs": [],
   "source": [
    "#combining correaltion and distance metric of trial store number 86\n",
    "corr_weight=0.5\n",
    "corr_dist_cust=corr_cust.merge(dist_cust,on=['Store1','Store2'])\n",
    "corr_dist_cust['corr_mag_cust_score']=corr_dist_cust['corr_measure']*corr_weight+corr_dist_cust['mag_measure']*corr_weight"
   ]
  },
  {
   "cell_type": "code",
   "execution_count": 29,
   "id": "10837c1c",
   "metadata": {
    "execution": {
     "iopub.execute_input": "2024-10-20T15:48:29.926739Z",
     "iopub.status.busy": "2024-10-20T15:48:29.926314Z",
     "iopub.status.idle": "2024-10-20T15:48:29.942933Z",
     "shell.execute_reply": "2024-10-20T15:48:29.941788Z"
    },
    "papermill": {
     "duration": 0.04541,
     "end_time": "2024-10-20T15:48:29.945450",
     "exception": false,
     "start_time": "2024-10-20T15:48:29.900040",
     "status": "completed"
    },
    "tags": []
   },
   "outputs": [
    {
     "data": {
      "text/html": [
       "<div>\n",
       "<style scoped>\n",
       "    .dataframe tbody tr th:only-of-type {\n",
       "        vertical-align: middle;\n",
       "    }\n",
       "\n",
       "    .dataframe tbody tr th {\n",
       "        vertical-align: top;\n",
       "    }\n",
       "\n",
       "    .dataframe thead th {\n",
       "        text-align: right;\n",
       "    }\n",
       "</style>\n",
       "<table border=\"1\" class=\"dataframe\">\n",
       "  <thead>\n",
       "    <tr style=\"text-align: right;\">\n",
       "      <th></th>\n",
       "      <th>Store1</th>\n",
       "      <th>Store2</th>\n",
       "      <th>corr_measure</th>\n",
       "      <th>mag_measure</th>\n",
       "      <th>corr_mag_cust_score</th>\n",
       "    </tr>\n",
       "  </thead>\n",
       "  <tbody>\n",
       "    <tr>\n",
       "      <th>85</th>\n",
       "      <td>86</td>\n",
       "      <td>86</td>\n",
       "      <td>1.000000</td>\n",
       "      <td>1.000000</td>\n",
       "      <td>1.000000</td>\n",
       "    </tr>\n",
       "    <tr>\n",
       "      <th>153</th>\n",
       "      <td>86</td>\n",
       "      <td>155</td>\n",
       "      <td>0.942876</td>\n",
       "      <td>0.986063</td>\n",
       "      <td>0.964469</td>\n",
       "    </tr>\n",
       "    <tr>\n",
       "      <th>112</th>\n",
       "      <td>86</td>\n",
       "      <td>114</td>\n",
       "      <td>0.855339</td>\n",
       "      <td>0.938676</td>\n",
       "      <td>0.897008</td>\n",
       "    </tr>\n",
       "    <tr>\n",
       "      <th>107</th>\n",
       "      <td>86</td>\n",
       "      <td>109</td>\n",
       "      <td>0.770778</td>\n",
       "      <td>0.967944</td>\n",
       "      <td>0.869361</td>\n",
       "    </tr>\n",
       "    <tr>\n",
       "      <th>223</th>\n",
       "      <td>86</td>\n",
       "      <td>225</td>\n",
       "      <td>0.733791</td>\n",
       "      <td>0.967944</td>\n",
       "      <td>0.850868</td>\n",
       "    </tr>\n",
       "    <tr>\n",
       "      <th>...</th>\n",
       "      <td>...</td>\n",
       "      <td>...</td>\n",
       "      <td>...</td>\n",
       "      <td>...</td>\n",
       "      <td>...</td>\n",
       "    </tr>\n",
       "    <tr>\n",
       "      <th>84</th>\n",
       "      <td>86</td>\n",
       "      <td>85</td>\n",
       "      <td>NaN</td>\n",
       "      <td>NaN</td>\n",
       "      <td>NaN</td>\n",
       "    </tr>\n",
       "    <tr>\n",
       "      <th>191</th>\n",
       "      <td>86</td>\n",
       "      <td>193</td>\n",
       "      <td>NaN</td>\n",
       "      <td>NaN</td>\n",
       "      <td>NaN</td>\n",
       "    </tr>\n",
       "    <tr>\n",
       "      <th>204</th>\n",
       "      <td>86</td>\n",
       "      <td>206</td>\n",
       "      <td>NaN</td>\n",
       "      <td>NaN</td>\n",
       "      <td>NaN</td>\n",
       "    </tr>\n",
       "    <tr>\n",
       "      <th>209</th>\n",
       "      <td>86</td>\n",
       "      <td>211</td>\n",
       "      <td>NaN</td>\n",
       "      <td>NaN</td>\n",
       "      <td>NaN</td>\n",
       "    </tr>\n",
       "    <tr>\n",
       "      <th>250</th>\n",
       "      <td>86</td>\n",
       "      <td>252</td>\n",
       "      <td>NaN</td>\n",
       "      <td>NaN</td>\n",
       "      <td>NaN</td>\n",
       "    </tr>\n",
       "  </tbody>\n",
       "</table>\n",
       "<p>271 rows × 5 columns</p>\n",
       "</div>"
      ],
      "text/plain": [
       "     Store1  Store2  corr_measure  mag_measure  corr_mag_cust_score\n",
       "85       86      86      1.000000     1.000000             1.000000\n",
       "153      86     155      0.942876     0.986063             0.964469\n",
       "112      86     114      0.855339     0.938676             0.897008\n",
       "107      86     109      0.770778     0.967944             0.869361\n",
       "223      86     225      0.733791     0.967944             0.850868\n",
       "..      ...     ...           ...          ...                  ...\n",
       "84       86      85           NaN          NaN                  NaN\n",
       "191      86     193           NaN          NaN                  NaN\n",
       "204      86     206           NaN          NaN                  NaN\n",
       "209      86     211           NaN          NaN                  NaN\n",
       "250      86     252           NaN          NaN                  NaN\n",
       "\n",
       "[271 rows x 5 columns]"
      ]
     },
     "execution_count": 29,
     "metadata": {},
     "output_type": "execute_result"
    }
   ],
   "source": [
    "corr_dist_cust.sort_values(by='corr_mag_cust_score',ascending=False)\n"
   ]
  },
  {
   "cell_type": "code",
   "execution_count": 30,
   "id": "58e46858",
   "metadata": {
    "execution": {
     "iopub.execute_input": "2024-10-20T15:48:29.998297Z",
     "iopub.status.busy": "2024-10-20T15:48:29.997835Z",
     "iopub.status.idle": "2024-10-20T15:48:30.010056Z",
     "shell.execute_reply": "2024-10-20T15:48:30.008872Z"
    },
    "papermill": {
     "duration": 0.041497,
     "end_time": "2024-10-20T15:48:30.012638",
     "exception": false,
     "start_time": "2024-10-20T15:48:29.971141",
     "status": "completed"
    },
    "tags": []
   },
   "outputs": [],
   "source": [
    "#combining correlation and magnitude distance of total sales and total number of customers along with their scores on store1 and store 2 for trial store 86\n",
    "final_score=corr_dist_sales.merge(corr_dist_cust,on=['Store1','Store2'])\n",
    "final_score['final_score']=final_score['corr_mag_sales_score']*0.5+final_score['corr_mag_cust_score']*(1-0.5)\n"
   ]
  },
  {
   "cell_type": "code",
   "execution_count": 31,
   "id": "0f275f1a",
   "metadata": {
    "execution": {
     "iopub.execute_input": "2024-10-20T15:48:30.065300Z",
     "iopub.status.busy": "2024-10-20T15:48:30.064868Z",
     "iopub.status.idle": "2024-10-20T15:48:30.086055Z",
     "shell.execute_reply": "2024-10-20T15:48:30.084803Z"
    },
    "papermill": {
     "duration": 0.05076,
     "end_time": "2024-10-20T15:48:30.088774",
     "exception": false,
     "start_time": "2024-10-20T15:48:30.038014",
     "status": "completed"
    },
    "tags": []
   },
   "outputs": [
    {
     "data": {
      "text/html": [
       "<div>\n",
       "<style scoped>\n",
       "    .dataframe tbody tr th:only-of-type {\n",
       "        vertical-align: middle;\n",
       "    }\n",
       "\n",
       "    .dataframe tbody tr th {\n",
       "        vertical-align: top;\n",
       "    }\n",
       "\n",
       "    .dataframe thead th {\n",
       "        text-align: right;\n",
       "    }\n",
       "</style>\n",
       "<table border=\"1\" class=\"dataframe\">\n",
       "  <thead>\n",
       "    <tr style=\"text-align: right;\">\n",
       "      <th></th>\n",
       "      <th>Store1</th>\n",
       "      <th>Store2</th>\n",
       "      <th>corr_measure_x</th>\n",
       "      <th>mag_measure_x</th>\n",
       "      <th>corr_mag_sales_score</th>\n",
       "      <th>corr_measure_y</th>\n",
       "      <th>mag_measure_y</th>\n",
       "      <th>corr_mag_cust_score</th>\n",
       "      <th>final_score</th>\n",
       "    </tr>\n",
       "  </thead>\n",
       "  <tbody>\n",
       "    <tr>\n",
       "      <th>85</th>\n",
       "      <td>86</td>\n",
       "      <td>86</td>\n",
       "      <td>1.000000</td>\n",
       "      <td>1.000000</td>\n",
       "      <td>1.000000</td>\n",
       "      <td>1.000000</td>\n",
       "      <td>1.000000</td>\n",
       "      <td>1.000000</td>\n",
       "      <td>1.000000</td>\n",
       "    </tr>\n",
       "    <tr>\n",
       "      <th>153</th>\n",
       "      <td>86</td>\n",
       "      <td>155</td>\n",
       "      <td>0.877882</td>\n",
       "      <td>0.964282</td>\n",
       "      <td>0.921082</td>\n",
       "      <td>0.942876</td>\n",
       "      <td>0.986063</td>\n",
       "      <td>0.964469</td>\n",
       "      <td>0.942775</td>\n",
       "    </tr>\n",
       "    <tr>\n",
       "      <th>107</th>\n",
       "      <td>86</td>\n",
       "      <td>109</td>\n",
       "      <td>0.788300</td>\n",
       "      <td>0.965225</td>\n",
       "      <td>0.876762</td>\n",
       "      <td>0.770778</td>\n",
       "      <td>0.967944</td>\n",
       "      <td>0.869361</td>\n",
       "      <td>0.873062</td>\n",
       "    </tr>\n",
       "    <tr>\n",
       "      <th>112</th>\n",
       "      <td>86</td>\n",
       "      <td>114</td>\n",
       "      <td>0.734415</td>\n",
       "      <td>0.924351</td>\n",
       "      <td>0.829383</td>\n",
       "      <td>0.855339</td>\n",
       "      <td>0.938676</td>\n",
       "      <td>0.897008</td>\n",
       "      <td>0.863195</td>\n",
       "    </tr>\n",
       "    <tr>\n",
       "      <th>136</th>\n",
       "      <td>86</td>\n",
       "      <td>138</td>\n",
       "      <td>0.759864</td>\n",
       "      <td>0.928006</td>\n",
       "      <td>0.843935</td>\n",
       "      <td>0.749701</td>\n",
       "      <td>0.931707</td>\n",
       "      <td>0.840704</td>\n",
       "      <td>0.842319</td>\n",
       "    </tr>\n",
       "    <tr>\n",
       "      <th>...</th>\n",
       "      <td>...</td>\n",
       "      <td>...</td>\n",
       "      <td>...</td>\n",
       "      <td>...</td>\n",
       "      <td>...</td>\n",
       "      <td>...</td>\n",
       "      <td>...</td>\n",
       "      <td>...</td>\n",
       "      <td>...</td>\n",
       "    </tr>\n",
       "    <tr>\n",
       "      <th>84</th>\n",
       "      <td>86</td>\n",
       "      <td>85</td>\n",
       "      <td>NaN</td>\n",
       "      <td>NaN</td>\n",
       "      <td>NaN</td>\n",
       "      <td>NaN</td>\n",
       "      <td>NaN</td>\n",
       "      <td>NaN</td>\n",
       "      <td>NaN</td>\n",
       "    </tr>\n",
       "    <tr>\n",
       "      <th>191</th>\n",
       "      <td>86</td>\n",
       "      <td>193</td>\n",
       "      <td>NaN</td>\n",
       "      <td>NaN</td>\n",
       "      <td>NaN</td>\n",
       "      <td>NaN</td>\n",
       "      <td>NaN</td>\n",
       "      <td>NaN</td>\n",
       "      <td>NaN</td>\n",
       "    </tr>\n",
       "    <tr>\n",
       "      <th>204</th>\n",
       "      <td>86</td>\n",
       "      <td>206</td>\n",
       "      <td>NaN</td>\n",
       "      <td>NaN</td>\n",
       "      <td>NaN</td>\n",
       "      <td>NaN</td>\n",
       "      <td>NaN</td>\n",
       "      <td>NaN</td>\n",
       "      <td>NaN</td>\n",
       "    </tr>\n",
       "    <tr>\n",
       "      <th>209</th>\n",
       "      <td>86</td>\n",
       "      <td>211</td>\n",
       "      <td>NaN</td>\n",
       "      <td>NaN</td>\n",
       "      <td>NaN</td>\n",
       "      <td>NaN</td>\n",
       "      <td>NaN</td>\n",
       "      <td>NaN</td>\n",
       "      <td>NaN</td>\n",
       "    </tr>\n",
       "    <tr>\n",
       "      <th>250</th>\n",
       "      <td>86</td>\n",
       "      <td>252</td>\n",
       "      <td>NaN</td>\n",
       "      <td>NaN</td>\n",
       "      <td>NaN</td>\n",
       "      <td>NaN</td>\n",
       "      <td>NaN</td>\n",
       "      <td>NaN</td>\n",
       "      <td>NaN</td>\n",
       "    </tr>\n",
       "  </tbody>\n",
       "</table>\n",
       "<p>271 rows × 9 columns</p>\n",
       "</div>"
      ],
      "text/plain": [
       "     Store1  Store2  corr_measure_x  mag_measure_x  corr_mag_sales_score  \\\n",
       "85       86      86        1.000000       1.000000              1.000000   \n",
       "153      86     155        0.877882       0.964282              0.921082   \n",
       "107      86     109        0.788300       0.965225              0.876762   \n",
       "112      86     114        0.734415       0.924351              0.829383   \n",
       "136      86     138        0.759864       0.928006              0.843935   \n",
       "..      ...     ...             ...            ...                   ...   \n",
       "84       86      85             NaN            NaN                   NaN   \n",
       "191      86     193             NaN            NaN                   NaN   \n",
       "204      86     206             NaN            NaN                   NaN   \n",
       "209      86     211             NaN            NaN                   NaN   \n",
       "250      86     252             NaN            NaN                   NaN   \n",
       "\n",
       "     corr_measure_y  mag_measure_y  corr_mag_cust_score  final_score  \n",
       "85         1.000000       1.000000             1.000000     1.000000  \n",
       "153        0.942876       0.986063             0.964469     0.942775  \n",
       "107        0.770778       0.967944             0.869361     0.873062  \n",
       "112        0.855339       0.938676             0.897008     0.863195  \n",
       "136        0.749701       0.931707             0.840704     0.842319  \n",
       "..              ...            ...                  ...          ...  \n",
       "84              NaN            NaN                  NaN          NaN  \n",
       "191             NaN            NaN                  NaN          NaN  \n",
       "204             NaN            NaN                  NaN          NaN  \n",
       "209             NaN            NaN                  NaN          NaN  \n",
       "250             NaN            NaN                  NaN          NaN  \n",
       "\n",
       "[271 rows x 9 columns]"
      ]
     },
     "execution_count": 31,
     "metadata": {},
     "output_type": "execute_result"
    }
   ],
   "source": [
    "final_score.sort_values(by='final_score',ascending=False)\n"
   ]
  },
  {
   "cell_type": "code",
   "execution_count": 32,
   "id": "c4dcee5f",
   "metadata": {
    "execution": {
     "iopub.execute_input": "2024-10-20T15:48:30.144553Z",
     "iopub.status.busy": "2024-10-20T15:48:30.144116Z",
     "iopub.status.idle": "2024-10-20T15:48:30.152406Z",
     "shell.execute_reply": "2024-10-20T15:48:30.151291Z"
    },
    "papermill": {
     "duration": 0.039026,
     "end_time": "2024-10-20T15:48:30.154785",
     "exception": false,
     "start_time": "2024-10-20T15:48:30.115759",
     "status": "completed"
    },
    "tags": []
   },
   "outputs": [],
   "source": [
    "new_trial_store=86\n",
    "control_store_for_trial_store_86=final_score.loc[final_score['Store1']==new_trial_store].sort_values(by='final_score',ascending=False).iloc[1]['Store2']"
   ]
  },
  {
   "cell_type": "code",
   "execution_count": 33,
   "id": "f3d05c90",
   "metadata": {
    "execution": {
     "iopub.execute_input": "2024-10-20T15:48:30.209158Z",
     "iopub.status.busy": "2024-10-20T15:48:30.208691Z",
     "iopub.status.idle": "2024-10-20T15:48:30.215989Z",
     "shell.execute_reply": "2024-10-20T15:48:30.214794Z"
    },
    "papermill": {
     "duration": 0.037467,
     "end_time": "2024-10-20T15:48:30.218659",
     "exception": false,
     "start_time": "2024-10-20T15:48:30.181192",
     "status": "completed"
    },
    "tags": []
   },
   "outputs": [
    {
     "data": {
      "text/plain": [
       "155.0"
      ]
     },
     "execution_count": 33,
     "metadata": {},
     "output_type": "execute_result"
    }
   ],
   "source": [
    "control_store_for_trial_store_86"
   ]
  },
  {
   "cell_type": "markdown",
   "id": "bd4cf083",
   "metadata": {
    "papermill": {
     "duration": 0.025996,
     "end_time": "2024-10-20T15:48:30.270977",
     "exception": false,
     "start_time": "2024-10-20T15:48:30.244981",
     "status": "completed"
    },
    "tags": []
   },
   "source": [
    "LET'S CONFIRM OUR ANALYSIS USING VISUALIZATION "
   ]
  },
  {
   "cell_type": "markdown",
   "id": "2d0e6038",
   "metadata": {
    "papermill": {
     "duration": 0.026459,
     "end_time": "2024-10-20T15:48:30.323663",
     "exception": false,
     "start_time": "2024-10-20T15:48:30.297204",
     "status": "completed"
    },
    "tags": []
   },
   "source": [
    "VISUALIZATION FOR TOTAL SALES OVER MONTH "
   ]
  },
  {
   "cell_type": "code",
   "execution_count": 34,
   "id": "9278ae58",
   "metadata": {
    "execution": {
     "iopub.execute_input": "2024-10-20T15:48:30.379521Z",
     "iopub.status.busy": "2024-10-20T15:48:30.378642Z",
     "iopub.status.idle": "2024-10-20T15:48:30.398445Z",
     "shell.execute_reply": "2024-10-20T15:48:30.397379Z"
    },
    "papermill": {
     "duration": 0.050235,
     "end_time": "2024-10-20T15:48:30.401197",
     "exception": false,
     "start_time": "2024-10-20T15:48:30.350962",
     "status": "completed"
    },
    "tags": []
   },
   "outputs": [],
   "source": [
    "control_store_nbr=155\n",
    "trial_store_nbr=86\n",
    "control_store_sales=metrics[metrics['STORE_NBR']==control_store_nbr][['YEARMONTH','TOTAL_SALES']]\n",
    "trial_store_sales=metrics[metrics['STORE_NBR']==trial_store_nbr][['YEARMONTH','TOTAL_SALES']]\n",
    "other_store_sales=metrics[~metrics['STORE_NBR'].isin([control_store_nbr,trial_store_nbr])][['YEARMONTH','TOTAL_SALES']]\n",
    "\n",
    "\n",
    "control_store_sales['YEARMONTH'] = pd.to_datetime(control_store_sales['YEARMONTH'].astype(str) + '01', format='%Y%m%d')\n",
    "trial_store_sales['YEARMONTH'] = pd.to_datetime(trial_store_sales['YEARMONTH'].astype(str) + '01', format='%Y%m%d')\n",
    "other_store_sales['YEARMONTH'] = pd.to_datetime(other_store_sales['YEARMONTH'].astype(str) + '01', format='%Y%m%d')\n"
   ]
  },
  {
   "cell_type": "code",
   "execution_count": 35,
   "id": "5a09d089",
   "metadata": {
    "execution": {
     "iopub.execute_input": "2024-10-20T15:48:30.456293Z",
     "iopub.status.busy": "2024-10-20T15:48:30.455163Z",
     "iopub.status.idle": "2024-10-20T15:48:31.437367Z",
     "shell.execute_reply": "2024-10-20T15:48:31.435994Z"
    },
    "papermill": {
     "duration": 1.013215,
     "end_time": "2024-10-20T15:48:31.440800",
     "exception": false,
     "start_time": "2024-10-20T15:48:30.427585",
     "status": "completed"
    },
    "tags": []
   },
   "outputs": [
    {
     "data": {
      "image/png": "[encoded data removed]",
      "text/plain": [
       "<Figure size 1000x600 with 1 Axes>"
      ]
     },
     "metadata": {},
     "output_type": "display_data"
    }
   ],
   "source": [
    "plt.figure(figsize=(10, 6))\n",
    "sns.lineplot(data=control_store_sales,x='YEARMONTH',y='TOTAL_SALES',label='control_store')\n",
    "sns.lineplot(data=trial_store_sales,x='YEARMONTH',y='TOTAL_SALES',label='trial_store')\n",
    "sns.lineplot(data=other_store_sales,x='YEARMONTH',y='TOTAL_SALES',label='other_store')\n",
    "plt.title('TOTAL SALES BY MONTH OF TRIAL STORE 86 AND CONTROL STORE 155 ALONG WITH OTHER STORE',fontsize=8)\n",
    "plt.ylabel('TOTAL SALES')\n",
    "plt.legend()\n",
    "plt.tight_layout()\n",
    "plt.show()"
   ]
  },
  {
   "cell_type": "markdown",
   "id": "055bbe83",
   "metadata": {
    "papermill": {
     "duration": 0.027783,
     "end_time": "2024-10-20T15:48:31.496507",
     "exception": false,
     "start_time": "2024-10-20T15:48:31.468724",
     "status": "completed"
    },
    "tags": []
   },
   "source": [
    "VISUALISATION FOR TOTAL CUSTOMERS FOR TRIAL STORE 86 AND CONTROL STORE 155 ALONG WITH OTHER STORE CUSTOMERS.\n"
   ]
  },
  {
   "cell_type": "code",
   "execution_count": 36,
   "id": "29c34cf4",
   "metadata": {
    "execution": {
     "iopub.execute_input": "2024-10-20T15:48:31.554160Z",
     "iopub.status.busy": "2024-10-20T15:48:31.553696Z",
     "iopub.status.idle": "2024-10-20T15:48:31.573665Z",
     "shell.execute_reply": "2024-10-20T15:48:31.572661Z"
    },
    "papermill": {
     "duration": 0.052019,
     "end_time": "2024-10-20T15:48:31.576397",
     "exception": false,
     "start_time": "2024-10-20T15:48:31.524378",
     "status": "completed"
    },
    "tags": []
   },
   "outputs": [],
   "source": [
    "control_store_nbr=155\n",
    "trial_store_nbr=86\n",
    "control_store_cust=metrics[metrics['STORE_NBR']==control_store_nbr][['YEARMONTH','TOTAL_CUSTOMER']]\n",
    "trial_store_cust=metrics[metrics['STORE_NBR']==trial_store_nbr][['YEARMONTH','TOTAL_CUSTOMER']]\n",
    "other_store_cust=metrics[~metrics['STORE_NBR'].isin([control_store_nbr,trial_store_nbr])][['YEARMONTH','TOTAL_CUSTOMER']]\n",
    "\n",
    "control_store_cust['YEARMONTH']=pd.to_datetime(control_store_cust['YEARMONTH'].astype('str'),format='%Y%m')\n",
    "trial_store_cust['YEARMONTH']=pd.to_datetime(trial_store_cust['YEARMONTH'].astype('str'),format='%Y%m')\n",
    "other_store_cust['YEARMONTH']=pd.to_datetime(other_store_cust['YEARMONTH'].astype('str'),format='%Y%m')\n"
   ]
  },
  {
   "cell_type": "code",
   "execution_count": 37,
   "id": "9d560b8b",
   "metadata": {
    "execution": {
     "iopub.execute_input": "2024-10-20T15:48:31.634907Z",
     "iopub.status.busy": "2024-10-20T15:48:31.634434Z",
     "iopub.status.idle": "2024-10-20T15:48:32.635603Z",
     "shell.execute_reply": "2024-10-20T15:48:32.634431Z"
    },
    "papermill": {
     "duration": 1.034085,
     "end_time": "2024-10-20T15:48:32.638752",
     "exception": false,
     "start_time": "2024-10-20T15:48:31.604667",
     "status": "completed"
    },
    "tags": []
   },
   "outputs": [
    {
     "data": {
      "image/png": "[encoded data removed]",
      "text/plain": [
       "<Figure size 1000x600 with 1 Axes>"
      ]
     },
     "metadata": {},
     "output_type": "display_data"
    }
   ],
   "source": [
    "plt.figure(figsize=(10, 6))\n",
    "sns.lineplot(data=control_store_cust,x='YEARMONTH',y='TOTAL_CUSTOMER',label='control store')\n",
    "sns.lineplot(data=trial_store_cust,x='YEARMONTH',y='TOTAL_CUSTOMER',label='trial store')\n",
    "sns.lineplot(data=other_store_cust,x='YEARMONTH',y='TOTAL_CUSTOMER',label='other store')\n",
    "plt.title('TOTAL CUSTOMERS BY MONTH OF TRIAL STORE 86 AND CONTROL STORE 155 ALONG WITH OTHER STORE',fontsize=8)\n",
    "plt.ylabel('TOTAL SALES')\n",
    "plt.legend()\n",
    "plt.tight_layout()\n",
    "plt.show()"
   ]
  },
  {
   "cell_type": "markdown",
   "id": "6455f99e",
   "metadata": {
    "papermill": {
     "duration": 0.028526,
     "end_time": "2024-10-20T15:48:32.696421",
     "exception": false,
     "start_time": "2024-10-20T15:48:32.667895",
     "status": "completed"
    },
    "tags": []
   },
   "source": [
    "\n",
    "                                                        FOR TRIAL STORE 88\n"
   ]
  },
  {
   "cell_type": "markdown",
   "id": "5a49a556",
   "metadata": {
    "papermill": {
     "duration": 0.028979,
     "end_time": "2024-10-20T15:48:32.755112",
     "exception": false,
     "start_time": "2024-10-20T15:48:32.726133",
     "status": "completed"
    },
    "tags": []
   },
   "source": [
    "FOR TOTAL SALES"
   ]
  },
  {
   "cell_type": "code",
   "execution_count": 38,
   "id": "3a3d4d61",
   "metadata": {
    "execution": {
     "iopub.execute_input": "2024-10-20T15:48:32.816331Z",
     "iopub.status.busy": "2024-10-20T15:48:32.815916Z",
     "iopub.status.idle": "2024-10-20T15:48:34.876148Z",
     "shell.execute_reply": "2024-10-20T15:48:34.874909Z"
    },
    "papermill": {
     "duration": 2.094222,
     "end_time": "2024-10-20T15:48:34.879133",
     "exception": false,
     "start_time": "2024-10-20T15:48:32.784911",
     "status": "completed"
    },
    "tags": []
   },
   "outputs": [],
   "source": [
    "corr_sales=correlation(pre_trial_period,'TOTAL_SALES',88)\n",
    "dist_sales=calculate_magnitude_distance(pre_trial_period,'TOTAL_SALES',88)"
   ]
  },
  {
   "cell_type": "code",
   "execution_count": 39,
   "id": "e3a3a3fe",
   "metadata": {
    "execution": {
     "iopub.execute_input": "2024-10-20T15:48:34.943202Z",
     "iopub.status.busy": "2024-10-20T15:48:34.942740Z",
     "iopub.status.idle": "2024-10-20T15:48:34.953255Z",
     "shell.execute_reply": "2024-10-20T15:48:34.952054Z"
    },
    "papermill": {
     "duration": 0.046133,
     "end_time": "2024-10-20T15:48:34.955592",
     "exception": false,
     "start_time": "2024-10-20T15:48:34.909459",
     "status": "completed"
    },
    "tags": []
   },
   "outputs": [],
   "source": [
    "#combining correaltion and distance metric of trial store number 86\n",
    "corr_weight=0.5\n",
    "corr_dist_sales=corr_sales.merge(dist_sales,on=['Store1','Store2'])\n",
    "corr_dist_sales['corr_mag_sales_score']=corr_dist_sales['corr_measure']*corr_weight+corr_dist_sales['mag_measure']*corr_weight"
   ]
  },
  {
   "cell_type": "code",
   "execution_count": 40,
   "id": "52e0f343",
   "metadata": {
    "execution": {
     "iopub.execute_input": "2024-10-20T15:48:35.016491Z",
     "iopub.status.busy": "2024-10-20T15:48:35.016062Z",
     "iopub.status.idle": "2024-10-20T15:48:35.032718Z",
     "shell.execute_reply": "2024-10-20T15:48:35.031614Z"
    },
    "papermill": {
     "duration": 0.050186,
     "end_time": "2024-10-20T15:48:35.035265",
     "exception": false,
     "start_time": "2024-10-20T15:48:34.985079",
     "status": "completed"
    },
    "tags": []
   },
   "outputs": [
    {
     "data": {
      "text/html": [
       "<div>\n",
       "<style scoped>\n",
       "    .dataframe tbody tr th:only-of-type {\n",
       "        vertical-align: middle;\n",
       "    }\n",
       "\n",
       "    .dataframe tbody tr th {\n",
       "        vertical-align: top;\n",
       "    }\n",
       "\n",
       "    .dataframe thead th {\n",
       "        text-align: right;\n",
       "    }\n",
       "</style>\n",
       "<table border=\"1\" class=\"dataframe\">\n",
       "  <thead>\n",
       "    <tr style=\"text-align: right;\">\n",
       "      <th></th>\n",
       "      <th>Store1</th>\n",
       "      <th>Store2</th>\n",
       "      <th>corr_measure</th>\n",
       "      <th>mag_measure</th>\n",
       "      <th>corr_mag_sales_score</th>\n",
       "    </tr>\n",
       "  </thead>\n",
       "  <tbody>\n",
       "    <tr>\n",
       "      <th>87</th>\n",
       "      <td>88</td>\n",
       "      <td>88</td>\n",
       "      <td>1.000000</td>\n",
       "      <td>1.000000</td>\n",
       "      <td>1.000000</td>\n",
       "    </tr>\n",
       "    <tr>\n",
       "      <th>123</th>\n",
       "      <td>88</td>\n",
       "      <td>125</td>\n",
       "      <td>0.624109</td>\n",
       "      <td>0.859154</td>\n",
       "      <td>0.741632</td>\n",
       "    </tr>\n",
       "    <tr>\n",
       "      <th>201</th>\n",
       "      <td>88</td>\n",
       "      <td>203</td>\n",
       "      <td>0.508001</td>\n",
       "      <td>0.952633</td>\n",
       "      <td>0.730317</td>\n",
       "    </tr>\n",
       "    <tr>\n",
       "      <th>90</th>\n",
       "      <td>88</td>\n",
       "      <td>91</td>\n",
       "      <td>0.776688</td>\n",
       "      <td>0.677166</td>\n",
       "      <td>0.726927</td>\n",
       "    </tr>\n",
       "    <tr>\n",
       "      <th>176</th>\n",
       "      <td>88</td>\n",
       "      <td>178</td>\n",
       "      <td>0.731857</td>\n",
       "      <td>0.709362</td>\n",
       "      <td>0.720609</td>\n",
       "    </tr>\n",
       "    <tr>\n",
       "      <th>...</th>\n",
       "      <td>...</td>\n",
       "      <td>...</td>\n",
       "      <td>...</td>\n",
       "      <td>...</td>\n",
       "      <td>...</td>\n",
       "    </tr>\n",
       "    <tr>\n",
       "      <th>84</th>\n",
       "      <td>88</td>\n",
       "      <td>85</td>\n",
       "      <td>NaN</td>\n",
       "      <td>NaN</td>\n",
       "      <td>NaN</td>\n",
       "    </tr>\n",
       "    <tr>\n",
       "      <th>191</th>\n",
       "      <td>88</td>\n",
       "      <td>193</td>\n",
       "      <td>NaN</td>\n",
       "      <td>NaN</td>\n",
       "      <td>NaN</td>\n",
       "    </tr>\n",
       "    <tr>\n",
       "      <th>204</th>\n",
       "      <td>88</td>\n",
       "      <td>206</td>\n",
       "      <td>NaN</td>\n",
       "      <td>NaN</td>\n",
       "      <td>NaN</td>\n",
       "    </tr>\n",
       "    <tr>\n",
       "      <th>209</th>\n",
       "      <td>88</td>\n",
       "      <td>211</td>\n",
       "      <td>NaN</td>\n",
       "      <td>NaN</td>\n",
       "      <td>NaN</td>\n",
       "    </tr>\n",
       "    <tr>\n",
       "      <th>250</th>\n",
       "      <td>88</td>\n",
       "      <td>252</td>\n",
       "      <td>NaN</td>\n",
       "      <td>NaN</td>\n",
       "      <td>NaN</td>\n",
       "    </tr>\n",
       "  </tbody>\n",
       "</table>\n",
       "<p>271 rows × 5 columns</p>\n",
       "</div>"
      ],
      "text/plain": [
       "     Store1  Store2  corr_measure  mag_measure  corr_mag_sales_score\n",
       "87       88      88      1.000000     1.000000              1.000000\n",
       "123      88     125      0.624109     0.859154              0.741632\n",
       "201      88     203      0.508001     0.952633              0.730317\n",
       "90       88      91      0.776688     0.677166              0.726927\n",
       "176      88     178      0.731857     0.709362              0.720609\n",
       "..      ...     ...           ...          ...                   ...\n",
       "84       88      85           NaN          NaN                   NaN\n",
       "191      88     193           NaN          NaN                   NaN\n",
       "204      88     206           NaN          NaN                   NaN\n",
       "209      88     211           NaN          NaN                   NaN\n",
       "250      88     252           NaN          NaN                   NaN\n",
       "\n",
       "[271 rows x 5 columns]"
      ]
     },
     "execution_count": 40,
     "metadata": {},
     "output_type": "execute_result"
    }
   ],
   "source": [
    "corr_dist_sales.sort_values(by='corr_mag_sales_score',ascending=False)\n"
   ]
  },
  {
   "cell_type": "markdown",
   "id": "a6d523bf",
   "metadata": {
    "papermill": {
     "duration": 0.029422,
     "end_time": "2024-10-20T15:48:35.098437",
     "exception": false,
     "start_time": "2024-10-20T15:48:35.069015",
     "status": "completed"
    },
    "tags": []
   },
   "source": [
    "FOR TOTAL CUSTOMER\n"
   ]
  },
  {
   "cell_type": "code",
   "execution_count": 41,
   "id": "6ff0bad6",
   "metadata": {
    "execution": {
     "iopub.execute_input": "2024-10-20T15:48:35.160526Z",
     "iopub.status.busy": "2024-10-20T15:48:35.159802Z",
     "iopub.status.idle": "2024-10-20T15:48:37.239874Z",
     "shell.execute_reply": "2024-10-20T15:48:37.238839Z"
    },
    "papermill": {
     "duration": 2.114561,
     "end_time": "2024-10-20T15:48:37.242656",
     "exception": false,
     "start_time": "2024-10-20T15:48:35.128095",
     "status": "completed"
    },
    "tags": []
   },
   "outputs": [],
   "source": [
    "corr_cust=correlation(pre_trial_period,'TOTAL_CUSTOMER',88)\n",
    "dist_cust=calculate_magnitude_distance(pre_trial_period,'TOTAL_CUSTOMER',88)"
   ]
  },
  {
   "cell_type": "code",
   "execution_count": 42,
   "id": "cb1ca80a",
   "metadata": {
    "execution": {
     "iopub.execute_input": "2024-10-20T15:48:37.304478Z",
     "iopub.status.busy": "2024-10-20T15:48:37.304073Z",
     "iopub.status.idle": "2024-10-20T15:48:37.314568Z",
     "shell.execute_reply": "2024-10-20T15:48:37.313341Z"
    },
    "papermill": {
     "duration": 0.044307,
     "end_time": "2024-10-20T15:48:37.317223",
     "exception": false,
     "start_time": "2024-10-20T15:48:37.272916",
     "status": "completed"
    },
    "tags": []
   },
   "outputs": [],
   "source": [
    "#combining correaltion and distance metric of trial store number 88\n",
    "corr_weight=0.5\n",
    "corr_dist_cust=corr_cust.merge(dist_cust,on=['Store1','Store2'])\n",
    "corr_dist_cust['corr_mag_cust_score']=corr_dist_cust['corr_measure']*corr_weight+corr_dist_cust['mag_measure']*corr_weight"
   ]
  },
  {
   "cell_type": "code",
   "execution_count": 43,
   "id": "29fdf6e1",
   "metadata": {
    "execution": {
     "iopub.execute_input": "2024-10-20T15:48:37.380599Z",
     "iopub.status.busy": "2024-10-20T15:48:37.380189Z",
     "iopub.status.idle": "2024-10-20T15:48:37.396346Z",
     "shell.execute_reply": "2024-10-20T15:48:37.395094Z"
    },
    "papermill": {
     "duration": 0.051551,
     "end_time": "2024-10-20T15:48:37.398699",
     "exception": false,
     "start_time": "2024-10-20T15:48:37.347148",
     "status": "completed"
    },
    "tags": []
   },
   "outputs": [
    {
     "data": {
      "text/html": [
       "<div>\n",
       "<style scoped>\n",
       "    .dataframe tbody tr th:only-of-type {\n",
       "        vertical-align: middle;\n",
       "    }\n",
       "\n",
       "    .dataframe tbody tr th {\n",
       "        vertical-align: top;\n",
       "    }\n",
       "\n",
       "    .dataframe thead th {\n",
       "        text-align: right;\n",
       "    }\n",
       "</style>\n",
       "<table border=\"1\" class=\"dataframe\">\n",
       "  <thead>\n",
       "    <tr style=\"text-align: right;\">\n",
       "      <th></th>\n",
       "      <th>Store1</th>\n",
       "      <th>Store2</th>\n",
       "      <th>corr_measure</th>\n",
       "      <th>mag_measure</th>\n",
       "      <th>corr_mag_cust_score</th>\n",
       "    </tr>\n",
       "  </thead>\n",
       "  <tbody>\n",
       "    <tr>\n",
       "      <th>87</th>\n",
       "      <td>88</td>\n",
       "      <td>88</td>\n",
       "      <td>1.000000</td>\n",
       "      <td>1.000000</td>\n",
       "      <td>1.000000</td>\n",
       "    </tr>\n",
       "    <tr>\n",
       "      <th>235</th>\n",
       "      <td>88</td>\n",
       "      <td>237</td>\n",
       "      <td>0.947326</td>\n",
       "      <td>0.987528</td>\n",
       "      <td>0.967427</td>\n",
       "    </tr>\n",
       "    <tr>\n",
       "      <th>176</th>\n",
       "      <td>88</td>\n",
       "      <td>178</td>\n",
       "      <td>0.939466</td>\n",
       "      <td>0.824263</td>\n",
       "      <td>0.881865</td>\n",
       "    </tr>\n",
       "    <tr>\n",
       "      <th>68</th>\n",
       "      <td>88</td>\n",
       "      <td>69</td>\n",
       "      <td>0.815792</td>\n",
       "      <td>0.871882</td>\n",
       "      <td>0.843837</td>\n",
       "    </tr>\n",
       "    <tr>\n",
       "      <th>111</th>\n",
       "      <td>88</td>\n",
       "      <td>113</td>\n",
       "      <td>0.862632</td>\n",
       "      <td>0.787982</td>\n",
       "      <td>0.825307</td>\n",
       "    </tr>\n",
       "    <tr>\n",
       "      <th>...</th>\n",
       "      <td>...</td>\n",
       "      <td>...</td>\n",
       "      <td>...</td>\n",
       "      <td>...</td>\n",
       "      <td>...</td>\n",
       "    </tr>\n",
       "    <tr>\n",
       "      <th>84</th>\n",
       "      <td>88</td>\n",
       "      <td>85</td>\n",
       "      <td>NaN</td>\n",
       "      <td>NaN</td>\n",
       "      <td>NaN</td>\n",
       "    </tr>\n",
       "    <tr>\n",
       "      <th>191</th>\n",
       "      <td>88</td>\n",
       "      <td>193</td>\n",
       "      <td>NaN</td>\n",
       "      <td>NaN</td>\n",
       "      <td>NaN</td>\n",
       "    </tr>\n",
       "    <tr>\n",
       "      <th>204</th>\n",
       "      <td>88</td>\n",
       "      <td>206</td>\n",
       "      <td>NaN</td>\n",
       "      <td>NaN</td>\n",
       "      <td>NaN</td>\n",
       "    </tr>\n",
       "    <tr>\n",
       "      <th>209</th>\n",
       "      <td>88</td>\n",
       "      <td>211</td>\n",
       "      <td>NaN</td>\n",
       "      <td>NaN</td>\n",
       "      <td>NaN</td>\n",
       "    </tr>\n",
       "    <tr>\n",
       "      <th>250</th>\n",
       "      <td>88</td>\n",
       "      <td>252</td>\n",
       "      <td>NaN</td>\n",
       "      <td>NaN</td>\n",
       "      <td>NaN</td>\n",
       "    </tr>\n",
       "  </tbody>\n",
       "</table>\n",
       "<p>271 rows × 5 columns</p>\n",
       "</div>"
      ],
      "text/plain": [
       "     Store1  Store2  corr_measure  mag_measure  corr_mag_cust_score\n",
       "87       88      88      1.000000     1.000000             1.000000\n",
       "235      88     237      0.947326     0.987528             0.967427\n",
       "176      88     178      0.939466     0.824263             0.881865\n",
       "68       88      69      0.815792     0.871882             0.843837\n",
       "111      88     113      0.862632     0.787982             0.825307\n",
       "..      ...     ...           ...          ...                  ...\n",
       "84       88      85           NaN          NaN                  NaN\n",
       "191      88     193           NaN          NaN                  NaN\n",
       "204      88     206           NaN          NaN                  NaN\n",
       "209      88     211           NaN          NaN                  NaN\n",
       "250      88     252           NaN          NaN                  NaN\n",
       "\n",
       "[271 rows x 5 columns]"
      ]
     },
     "execution_count": 43,
     "metadata": {},
     "output_type": "execute_result"
    }
   ],
   "source": [
    "corr_dist_cust.sort_values(by='corr_mag_cust_score',ascending=False)\n"
   ]
  },
  {
   "cell_type": "code",
   "execution_count": 44,
   "id": "cfe71e18",
   "metadata": {
    "execution": {
     "iopub.execute_input": "2024-10-20T15:48:37.462180Z",
     "iopub.status.busy": "2024-10-20T15:48:37.461749Z",
     "iopub.status.idle": "2024-10-20T15:48:37.472990Z",
     "shell.execute_reply": "2024-10-20T15:48:37.471876Z"
    },
    "papermill": {
     "duration": 0.045756,
     "end_time": "2024-10-20T15:48:37.475399",
     "exception": false,
     "start_time": "2024-10-20T15:48:37.429643",
     "status": "completed"
    },
    "tags": []
   },
   "outputs": [],
   "source": [
    "#combining correlation and magnitude distance of total sales and total number of customers along with their scores on store1 and store 2 for trial store 88\n",
    "final_score=corr_dist_sales.merge(corr_dist_cust,on=['Store1','Store2'])\n",
    "final_score['final_score']=final_score['corr_mag_sales_score']*0.5+final_score['corr_mag_cust_score']*(1-0.5)\n"
   ]
  },
  {
   "cell_type": "code",
   "execution_count": 45,
   "id": "d6229e07",
   "metadata": {
    "execution": {
     "iopub.execute_input": "2024-10-20T15:48:37.538606Z",
     "iopub.status.busy": "2024-10-20T15:48:37.537785Z",
     "iopub.status.idle": "2024-10-20T15:48:37.559586Z",
     "shell.execute_reply": "2024-10-20T15:48:37.558379Z"
    },
    "papermill": {
     "duration": 0.056329,
     "end_time": "2024-10-20T15:48:37.562112",
     "exception": false,
     "start_time": "2024-10-20T15:48:37.505783",
     "status": "completed"
    },
    "tags": []
   },
   "outputs": [
    {
     "data": {
      "text/html": [
       "<div>\n",
       "<style scoped>\n",
       "    .dataframe tbody tr th:only-of-type {\n",
       "        vertical-align: middle;\n",
       "    }\n",
       "\n",
       "    .dataframe tbody tr th {\n",
       "        vertical-align: top;\n",
       "    }\n",
       "\n",
       "    .dataframe thead th {\n",
       "        text-align: right;\n",
       "    }\n",
       "</style>\n",
       "<table border=\"1\" class=\"dataframe\">\n",
       "  <thead>\n",
       "    <tr style=\"text-align: right;\">\n",
       "      <th></th>\n",
       "      <th>Store1</th>\n",
       "      <th>Store2</th>\n",
       "      <th>corr_measure_x</th>\n",
       "      <th>mag_measure_x</th>\n",
       "      <th>corr_mag_sales_score</th>\n",
       "      <th>corr_measure_y</th>\n",
       "      <th>mag_measure_y</th>\n",
       "      <th>corr_mag_cust_score</th>\n",
       "      <th>final_score</th>\n",
       "    </tr>\n",
       "  </thead>\n",
       "  <tbody>\n",
       "    <tr>\n",
       "      <th>87</th>\n",
       "      <td>88</td>\n",
       "      <td>88</td>\n",
       "      <td>1.000000</td>\n",
       "      <td>1.000000</td>\n",
       "      <td>1.000000</td>\n",
       "      <td>1.000000</td>\n",
       "      <td>1.000000</td>\n",
       "      <td>1.000000</td>\n",
       "      <td>1.000000</td>\n",
       "    </tr>\n",
       "    <tr>\n",
       "      <th>176</th>\n",
       "      <td>88</td>\n",
       "      <td>178</td>\n",
       "      <td>0.731857</td>\n",
       "      <td>0.709362</td>\n",
       "      <td>0.720609</td>\n",
       "      <td>0.939466</td>\n",
       "      <td>0.824263</td>\n",
       "      <td>0.881865</td>\n",
       "      <td>0.801237</td>\n",
       "    </tr>\n",
       "    <tr>\n",
       "      <th>235</th>\n",
       "      <td>88</td>\n",
       "      <td>237</td>\n",
       "      <td>0.308479</td>\n",
       "      <td>0.958131</td>\n",
       "      <td>0.633305</td>\n",
       "      <td>0.947326</td>\n",
       "      <td>0.987528</td>\n",
       "      <td>0.967427</td>\n",
       "      <td>0.800366</td>\n",
       "    </tr>\n",
       "    <tr>\n",
       "      <th>68</th>\n",
       "      <td>88</td>\n",
       "      <td>69</td>\n",
       "      <td>0.450029</td>\n",
       "      <td>0.720904</td>\n",
       "      <td>0.585466</td>\n",
       "      <td>0.815792</td>\n",
       "      <td>0.871882</td>\n",
       "      <td>0.843837</td>\n",
       "      <td>0.714652</td>\n",
       "    </tr>\n",
       "    <tr>\n",
       "      <th>111</th>\n",
       "      <td>88</td>\n",
       "      <td>113</td>\n",
       "      <td>0.495763</td>\n",
       "      <td>0.696975</td>\n",
       "      <td>0.596369</td>\n",
       "      <td>0.862632</td>\n",
       "      <td>0.787982</td>\n",
       "      <td>0.825307</td>\n",
       "      <td>0.710838</td>\n",
       "    </tr>\n",
       "    <tr>\n",
       "      <th>...</th>\n",
       "      <td>...</td>\n",
       "      <td>...</td>\n",
       "      <td>...</td>\n",
       "      <td>...</td>\n",
       "      <td>...</td>\n",
       "      <td>...</td>\n",
       "      <td>...</td>\n",
       "      <td>...</td>\n",
       "      <td>...</td>\n",
       "    </tr>\n",
       "    <tr>\n",
       "      <th>84</th>\n",
       "      <td>88</td>\n",
       "      <td>85</td>\n",
       "      <td>NaN</td>\n",
       "      <td>NaN</td>\n",
       "      <td>NaN</td>\n",
       "      <td>NaN</td>\n",
       "      <td>NaN</td>\n",
       "      <td>NaN</td>\n",
       "      <td>NaN</td>\n",
       "    </tr>\n",
       "    <tr>\n",
       "      <th>191</th>\n",
       "      <td>88</td>\n",
       "      <td>193</td>\n",
       "      <td>NaN</td>\n",
       "      <td>NaN</td>\n",
       "      <td>NaN</td>\n",
       "      <td>NaN</td>\n",
       "      <td>NaN</td>\n",
       "      <td>NaN</td>\n",
       "      <td>NaN</td>\n",
       "    </tr>\n",
       "    <tr>\n",
       "      <th>204</th>\n",
       "      <td>88</td>\n",
       "      <td>206</td>\n",
       "      <td>NaN</td>\n",
       "      <td>NaN</td>\n",
       "      <td>NaN</td>\n",
       "      <td>NaN</td>\n",
       "      <td>NaN</td>\n",
       "      <td>NaN</td>\n",
       "      <td>NaN</td>\n",
       "    </tr>\n",
       "    <tr>\n",
       "      <th>209</th>\n",
       "      <td>88</td>\n",
       "      <td>211</td>\n",
       "      <td>NaN</td>\n",
       "      <td>NaN</td>\n",
       "      <td>NaN</td>\n",
       "      <td>NaN</td>\n",
       "      <td>NaN</td>\n",
       "      <td>NaN</td>\n",
       "      <td>NaN</td>\n",
       "    </tr>\n",
       "    <tr>\n",
       "      <th>250</th>\n",
       "      <td>88</td>\n",
       "      <td>252</td>\n",
       "      <td>NaN</td>\n",
       "      <td>NaN</td>\n",
       "      <td>NaN</td>\n",
       "      <td>NaN</td>\n",
       "      <td>NaN</td>\n",
       "      <td>NaN</td>\n",
       "      <td>NaN</td>\n",
       "    </tr>\n",
       "  </tbody>\n",
       "</table>\n",
       "<p>271 rows × 9 columns</p>\n",
       "</div>"
      ],
      "text/plain": [
       "     Store1  Store2  corr_measure_x  mag_measure_x  corr_mag_sales_score  \\\n",
       "87       88      88        1.000000       1.000000              1.000000   \n",
       "176      88     178        0.731857       0.709362              0.720609   \n",
       "235      88     237        0.308479       0.958131              0.633305   \n",
       "68       88      69        0.450029       0.720904              0.585466   \n",
       "111      88     113        0.495763       0.696975              0.596369   \n",
       "..      ...     ...             ...            ...                   ...   \n",
       "84       88      85             NaN            NaN                   NaN   \n",
       "191      88     193             NaN            NaN                   NaN   \n",
       "204      88     206             NaN            NaN                   NaN   \n",
       "209      88     211             NaN            NaN                   NaN   \n",
       "250      88     252             NaN            NaN                   NaN   \n",
       "\n",
       "     corr_measure_y  mag_measure_y  corr_mag_cust_score  final_score  \n",
       "87         1.000000       1.000000             1.000000     1.000000  \n",
       "176        0.939466       0.824263             0.881865     0.801237  \n",
       "235        0.947326       0.987528             0.967427     0.800366  \n",
       "68         0.815792       0.871882             0.843837     0.714652  \n",
       "111        0.862632       0.787982             0.825307     0.710838  \n",
       "..              ...            ...                  ...          ...  \n",
       "84              NaN            NaN                  NaN          NaN  \n",
       "191             NaN            NaN                  NaN          NaN  \n",
       "204             NaN            NaN                  NaN          NaN  \n",
       "209             NaN            NaN                  NaN          NaN  \n",
       "250             NaN            NaN                  NaN          NaN  \n",
       "\n",
       "[271 rows x 9 columns]"
      ]
     },
     "execution_count": 45,
     "metadata": {},
     "output_type": "execute_result"
    }
   ],
   "source": [
    "final_score.sort_values(by='final_score',ascending=False)\n"
   ]
  },
  {
   "cell_type": "code",
   "execution_count": 46,
   "id": "8b7cb808",
   "metadata": {
    "execution": {
     "iopub.execute_input": "2024-10-20T15:48:37.626391Z",
     "iopub.status.busy": "2024-10-20T15:48:37.625470Z",
     "iopub.status.idle": "2024-10-20T15:48:37.634140Z",
     "shell.execute_reply": "2024-10-20T15:48:37.633092Z"
    },
    "papermill": {
     "duration": 0.043674,
     "end_time": "2024-10-20T15:48:37.636608",
     "exception": false,
     "start_time": "2024-10-20T15:48:37.592934",
     "status": "completed"
    },
    "tags": []
   },
   "outputs": [],
   "source": [
    "trial_store=88\n",
    "control_store_for_trial_store_88=final_score.loc[final_score['Store1']==trial_store].sort_values(by='final_score',ascending=False).iloc[2]['Store2']"
   ]
  },
  {
   "cell_type": "code",
   "execution_count": 47,
   "id": "0dc1ba87",
   "metadata": {
    "execution": {
     "iopub.execute_input": "2024-10-20T15:48:37.701521Z",
     "iopub.status.busy": "2024-10-20T15:48:37.700470Z",
     "iopub.status.idle": "2024-10-20T15:48:37.707948Z",
     "shell.execute_reply": "2024-10-20T15:48:37.706860Z"
    },
    "papermill": {
     "duration": 0.042694,
     "end_time": "2024-10-20T15:48:37.710485",
     "exception": false,
     "start_time": "2024-10-20T15:48:37.667791",
     "status": "completed"
    },
    "tags": []
   },
   "outputs": [
    {
     "data": {
      "text/plain": [
       "237.0"
      ]
     },
     "execution_count": 47,
     "metadata": {},
     "output_type": "execute_result"
    }
   ],
   "source": [
    "control_store_for_trial_store_88"
   ]
  },
  {
   "cell_type": "markdown",
   "id": "6bd4500a",
   "metadata": {
    "papermill": {
     "duration": 0.03148,
     "end_time": "2024-10-20T15:48:37.773362",
     "exception": false,
     "start_time": "2024-10-20T15:48:37.741882",
     "status": "completed"
    },
    "tags": []
   },
   "source": [
    "I KNOW YOU WONDER ABOVE WHY I SELECT 237 AS CONTROL STORE FOR TRIAL STORE 88 INSTEAD OF STORE NUMBER 178 WHERE IT RANKED AS SECOND HERE IS WHY I SELECT 237 AS CONTROL STORE BECAUSE WHEN YOU CAREFULLY NOTICE THAT THE FINAL SCORE OF STORE NUMBER 237 AND 178 IS APPROX 0.80 BUT THE DIFFERENCE WHICH MAKE 237 AS CONTROL STORE IS THAT CORRELATION AND MAGNITUDE SCORE FOR TOTAL CUSTOMER IS MORE FOR 237 THAN 178 AND ALONE MAGNITUDE MEASURE FOR TOTAL SALES AND TOTAL CUSTOMER IS HEIGHER THAN STORE NUMBER 178 WHICH LEAD ME TO CHOICE IT AS CONTROL STORE \n",
    "\n",
    "BTW BOTH STORE ARE GIVING TOUGH FIGHT. YOU CAN VERFIY IT BY VISUAL IT \n",
    "\n"
   ]
  },
  {
   "cell_type": "markdown",
   "id": "3203f6c7",
   "metadata": {
    "papermill": {
     "duration": 0.031149,
     "end_time": "2024-10-20T15:48:37.837027",
     "exception": false,
     "start_time": "2024-10-20T15:48:37.805878",
     "status": "completed"
    },
    "tags": []
   },
   "source": [
    "LET'S CONFIRM OUR ANALYSIS USING VISUALIZATION"
   ]
  },
  {
   "cell_type": "markdown",
   "id": "70539893",
   "metadata": {
    "papermill": {
     "duration": 0.031479,
     "end_time": "2024-10-20T15:48:37.899782",
     "exception": false,
     "start_time": "2024-10-20T15:48:37.868303",
     "status": "completed"
    },
    "tags": []
   },
   "source": [
    "VISUALISATION FOR TOTAL SALES OVER MONTH"
   ]
  },
  {
   "cell_type": "code",
   "execution_count": 48,
   "id": "010652e3",
   "metadata": {
    "execution": {
     "iopub.execute_input": "2024-10-20T15:48:37.963894Z",
     "iopub.status.busy": "2024-10-20T15:48:37.963454Z",
     "iopub.status.idle": "2024-10-20T15:48:39.044722Z",
     "shell.execute_reply": "2024-10-20T15:48:39.043437Z"
    },
    "papermill": {
     "duration": 1.116799,
     "end_time": "2024-10-20T15:48:39.047732",
     "exception": false,
     "start_time": "2024-10-20T15:48:37.930933",
     "status": "completed"
    },
    "tags": []
   },
   "outputs": [
    {
     "data": {
      "image/png": "[encoded data removed]",
      "text/plain": [
       "<Figure size 1000x600 with 1 Axes>"
      ]
     },
     "metadata": {},
     "output_type": "display_data"
    }
   ],
   "source": [
    "control_store_nbr=237\n",
    "trial_store_nbr=88\n",
    "control_store_sales=metrics[metrics['STORE_NBR']==control_store_nbr][['YEARMONTH','TOTAL_SALES']]\n",
    "trial_store_sales=metrics[metrics['STORE_NBR']==trial_store_nbr][['YEARMONTH','TOTAL_SALES']]\n",
    "other_store_sales=metrics[~metrics['STORE_NBR'].isin([control_store_nbr,trial_store_nbr])][['YEARMONTH','TOTAL_SALES']]\n",
    "\n",
    "\n",
    "control_store_sales['YEARMONTH'] = pd.to_datetime(control_store_sales['YEARMONTH'].astype(str) + '01', format='%Y%m%d')\n",
    "trial_store_sales['YEARMONTH'] = pd.to_datetime(trial_store_sales['YEARMONTH'].astype(str) + '01', format='%Y%m%d')\n",
    "other_store_sales['YEARMONTH'] = pd.to_datetime(other_store_sales['YEARMONTH'].astype(str) + '01', format='%Y%m%d')\n",
    "\n",
    "plt.figure(figsize=(10, 6))\n",
    "sns.lineplot(data=control_store_sales,x='YEARMONTH',y='TOTAL_SALES',label='control_store')\n",
    "sns.lineplot(data=trial_store_sales,x='YEARMONTH',y='TOTAL_SALES',label='trial_store')\n",
    "sns.lineplot(data=other_store_sales,x='YEARMONTH',y='TOTAL_SALES',label='other_store')\n",
    "plt.title('TOTAL SALES BY MONTH OF TRIAL STORE 88 AND CONTROL STORE 237 ALONG WITH OTHER STORE',fontsize=8)\n",
    "plt.ylabel('TOTAL SALES')\n",
    "plt.legend()\n",
    "plt.tight_layout()\n",
    "plt.show()"
   ]
  },
  {
   "cell_type": "markdown",
   "id": "7a7dfd47",
   "metadata": {
    "papermill": {
     "duration": 0.031941,
     "end_time": "2024-10-20T15:48:39.112153",
     "exception": false,
     "start_time": "2024-10-20T15:48:39.080212",
     "status": "completed"
    },
    "tags": []
   },
   "source": [
    "VISUALISATION FOR TOTAL CUSTOMERS FOR TRIAL STORE 86 AND CONTROL STORE 155 ALONG WITH OTHER STORE CUSTOMERS."
   ]
  },
  {
   "cell_type": "code",
   "execution_count": 49,
   "id": "36dccd4d",
   "metadata": {
    "execution": {
     "iopub.execute_input": "2024-10-20T15:48:39.178179Z",
     "iopub.status.busy": "2024-10-20T15:48:39.177727Z",
     "iopub.status.idle": "2024-10-20T15:48:40.199281Z",
     "shell.execute_reply": "2024-10-20T15:48:40.198124Z"
    },
    "papermill": {
     "duration": 1.057917,
     "end_time": "2024-10-20T15:48:40.202120",
     "exception": false,
     "start_time": "2024-10-20T15:48:39.144203",
     "status": "completed"
    },
    "tags": []
   },
   "outputs": [
    {
     "data": {
      "image/png": "[encoded data removed]",
      "text/plain": [
       "<Figure size 1000x600 with 1 Axes>"
      ]
     },
     "metadata": {},
     "output_type": "display_data"
    }
   ],
   "source": [
    "control_store_nbr=237\n",
    "trial_store_nbr=88\n",
    "control_store_cust=metrics[metrics['STORE_NBR']==control_store_nbr][['YEARMONTH','TOTAL_CUSTOMER']]\n",
    "trial_store_cust=metrics[metrics['STORE_NBR']==trial_store_nbr][['YEARMONTH','TOTAL_CUSTOMER']]\n",
    "other_store_cust=metrics[~metrics['STORE_NBR'].isin([control_store_nbr,trial_store_nbr])][['YEARMONTH','TOTAL_CUSTOMER']]\n",
    "\n",
    "control_store_cust['YEARMONTH']=pd.to_datetime(control_store_cust['YEARMONTH'].astype('str'),format='%Y%m')\n",
    "trial_store_cust['YEARMONTH']=pd.to_datetime(trial_store_cust['YEARMONTH'].astype('str'),format='%Y%m')\n",
    "other_store_cust['YEARMONTH']=pd.to_datetime(other_store_cust['YEARMONTH'].astype('str'),format='%Y%m')\n",
    "\n",
    "plt.figure(figsize=(10, 6))\n",
    "sns.lineplot(data=control_store_cust,x='YEARMONTH',y='TOTAL_CUSTOMER',label='control store')\n",
    "sns.lineplot(data=trial_store_cust,x='YEARMONTH',y='TOTAL_CUSTOMER',label='trial store')\n",
    "sns.lineplot(data=other_store_cust,x='YEARMONTH',y='TOTAL_CUSTOMER',label='other store')\n",
    "plt.title('TOTAL CUSTOMERS BY MONTH OF TRIAL STORE 88 AND CONTROL STORE 237 ALONG WITH OTHER STORE',fontsize=8)\n",
    "plt.ylabel('TOTAL SALES')\n",
    "plt.legend()\n",
    "plt.tight_layout()\n",
    "plt.show()"
   ]
  },
  {
   "cell_type": "markdown",
   "id": "c7034787",
   "metadata": {
    "papermill": {
     "duration": 0.037682,
     "end_time": "2024-10-20T15:48:40.275190",
     "exception": false,
     "start_time": "2024-10-20T15:48:40.237508",
     "status": "completed"
    },
    "tags": []
   },
   "source": [
    "CONCLUSION:\n",
    "WE FOUND  STORE 233,155,237 AS CONTROL STORE FOR TRIAL STORE 77,86,88"
   ]
  }
 ],
 "metadata": {
  "kaggle": {
   "accelerator": "none",
   "dataSources": [
    {
     "datasetId": 5772075,
     "sourceId": 9487749,
     "sourceType": "datasetVersion"
    }
   ],
   "dockerImageVersionId": 30775,
   "isGpuEnabled": false,
   "isInternetEnabled": true,
   "language": "python",
   "sourceType": "notebook"
  },
  "kernelspec": {
   "display_name": "Python 3",
   "language": "python",
   "name": "python3"
  },
  "language_info": {
   "codemirror_mode": {
    "name": "ipython",
    "version": 3
   },
   "file_extension": ".py",
   "mimetype": "text/x-python",
   "name": "python",
   "nbconvert_exporter": "python",
   "pygments_lexer": "ipython3",
   "version": "3.10.14"
  },
  "papermill": {
   "default_parameters": {},
   "duration": 70.844898,
   "end_time": "2024-10-20T15:48:41.031988",
   "environment_variables": {},
   "exception": null,
   "input_path": "__notebook__.ipynb",
   "output_path": "__notebook__.ipynb",
   "parameters": {},
   "start_time": "2024-10-20T15:47:30.187090",
   "version": "2.6.0"
  }
 },
 "nbformat": 4,
 "nbformat_minor": 5
}
